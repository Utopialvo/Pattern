{
 "cells": [
  {
   "cell_type": "code",
   "execution_count": 1,
   "id": "7e583916-ae30-4a3b-95bf-600bd6169c8d",
   "metadata": {},
   "outputs": [],
   "source": [
    "import pandas as pd\n",
    "from sklearn.datasets import make_blobs\n",
    "from core.api import train_pipeline\n",
    "from config.registries import MODEL_REGISTRY\n",
    "from data.loaders import PandasDataLoader"
   ]
  },
  {
   "cell_type": "code",
   "execution_count": 2,
   "id": "c9b9d2e3-a022-4988-848a-e0ce21ac2558",
   "metadata": {},
   "outputs": [],
   "source": [
    "# Generate sample data\n",
    "X, _, centers = make_blobs(\n",
    "    n_samples=3000,\n",
    "    n_features=3,\n",
    "    centers=5,\n",
    "    cluster_std=1.0,\n",
    "    random_state=0,\n",
    "    return_centers=True\n",
    ")\n",
    "pd.DataFrame(X, columns=[f'x{i+1}' for i in range(3)]).to_parquet('sample.parquet')"
   ]
  },
  {
   "cell_type": "code",
   "execution_count": 3,
   "id": "42f525fc-d4b3-4a20-b9f7-55aeed95793d",
   "metadata": {},
   "outputs": [],
   "source": [
    "# Example configuration\n",
    "base_config = {\n",
    "    \"data_source\": \"pandas\",\n",
    "    \"data_path\": [\"sample.parquet\"],\n",
    "    \"metric\": \"silhouette\",\n",
    "    \"output_path\": \"best_model.joblib\"\n",
    "}\n",
    "\n",
    "def analyze_results(model: object) -> None:\n",
    "    \"\"\"Display model training results.\"\"\"\n",
    "    print(f\"Optimal parameters: {model.model.get_params()}\")\n",
    "    print(f\"Inertia: {model.model.inertia_}\")\n",
    "    print(\"Cluster centroids:\")\n",
    "    for i, c in enumerate(model.model_data['centroids']):\n",
    "        print(f\"Cluster {i}: {c}\")\n",
    "\n",
    "def demo_pipeline(config: dict, algorithm: str = 'kmeans') -> object:\n",
    "    \"\"\"Execute full training pipeline.\"\"\"\n",
    "    print(f\"Available algorithms: {list(MODEL_REGISTRY.keys())}\")\n",
    "    print(f\"\\n{algorithm} parameters:\")\n",
    "    for param, desc in MODEL_REGISTRY[algorithm]['params_help'].items():\n",
    "        print(f\"  {param}: {desc}\")\n",
    "\n",
    "    model = train_pipeline(\n",
    "        features_src=config['data_path'][0],\n",
    "        algorithm=algorithm,\n",
    "        param_grid=config.get('params', {}),\n",
    "        metric=config['metric'],\n",
    "        optimizer=config.get('optimizer', 'grid')\n",
    "    )\n",
    "    \n",
    "    if 'output_path' in config:\n",
    "        model.save(config['output_path'])\n",
    "    \n",
    "    return model"
   ]
  },
  {
   "cell_type": "code",
   "execution_count": 4,
   "id": "77664138-ba58-49d8-98b1-5cd72c48384e",
   "metadata": {},
   "outputs": [
    {
     "name": "stdout",
     "output_type": "stream",
     "text": [
      "Available algorithms: ['kmeans', 'dbscan']\n",
      "\n",
      "kmeans parameters:\n",
      "  n_clusters: Number of clusters (positive integer)\n",
      "  init: Initialization method [k-means++, random]\n",
      "  max_iter: Maximum iterations (positive integer)\n",
      "Optimal parameters: {'algorithm': 'lloyd', 'copy_x': True, 'init': 'k-means++', 'max_iter': 100, 'n_clusters': 5, 'n_init': 'auto', 'random_state': None, 'tol': 0.0001, 'verbose': 0}\n",
      "Inertia: 8882.80363494166\n",
      "Cluster centroids:\n",
      "Cluster 0: [0.91868199 4.2509417  2.09264055]\n",
      "Cluster 1: [-1.24767707  7.87567211  9.29361259]\n",
      "Cluster 2: [ 1.29176795  8.48369582 -8.57501229]\n",
      "Cluster 3: [ 0.82568651 -1.53359757  2.93251345]\n",
      "Cluster 4: [-2.36789535  5.84695449  0.542761  ]\n"
     ]
    }
   ],
   "source": [
    "# Case 1: Manual configuration\n",
    "manual_config = {\n",
    "    **base_config,\n",
    "    \"algorithm\": \"kmeans\",\n",
    "    \"params\": {\n",
    "        \"n_clusters\": [3, 5, 7, 10],\n",
    "        \"init\": [\"k-means++\", \"random\"],\n",
    "        \"max_iter\": [100, 200]\n",
    "    }\n",
    "}\n",
    "\n",
    "# Execute manual pipeline\n",
    "manual_model = demo_pipeline(manual_config)\n",
    "analyze_results(manual_model)"
   ]
  },
  {
   "cell_type": "code",
   "execution_count": 5,
   "id": "a8760bb0-a22f-465d-af6d-fcc41e09a21a",
   "metadata": {},
   "outputs": [
    {
     "name": "stdout",
     "output_type": "stream",
     "text": [
      "Available algorithms: ['kmeans', 'dbscan']\n",
      "\n",
      "kmeans parameters:\n",
      "  n_clusters: Number of clusters (positive integer)\n",
      "  init: Initialization method [k-means++, random]\n",
      "  max_iter: Maximum iterations (positive integer)\n",
      "Optimal parameters: {'algorithm': 'lloyd', 'copy_x': True, 'init': 'k-means++', 'max_iter': 100, 'n_clusters': 4, 'n_init': 'auto', 'random_state': None, 'tol': 0.0001, 'verbose': 0}\n",
      "Inertia: 13555.712867017419\n",
      "Cluster centroids:\n",
      "Cluster 0: [-0.71651772  5.06165894  1.31982786]\n",
      "Cluster 1: [ 1.29176795  8.48369582 -8.57501229]\n",
      "Cluster 2: [ 0.84387723 -1.46994827  2.92848356]\n",
      "Cluster 3: [-1.24767707  7.87567211  9.29361259]\n"
     ]
    }
   ],
   "source": [
    "# Case 2: Optimized workflow\n",
    "auto_config = {\n",
    "    **base_config,\n",
    "    \"algorithm\": \"kmeans\", \n",
    "    \"params\": {\n",
    "        \"n_clusters\": [3, 4, 5, 6, 7],\n",
    "        \"init\": [\"k-means++\", \"random\"],\n",
    "        \"max_iter\": [100]\n",
    "    },\n",
    "    \"optimizer\": \"random\"\n",
    "}\n",
    "\n",
    "# Execute automated pipeline\n",
    "auto_model = demo_pipeline(auto_config)\n",
    "analyze_results(auto_model)"
   ]
  },
  {
   "cell_type": "code",
   "execution_count": 6,
   "id": "f4457a38-8687-4e94-8b03-212e87b598b1",
   "metadata": {},
   "outputs": [],
   "source": [
    "# Prediction demo\n",
    "def predict_clusters(model: object, features: dict) -> None:\n",
    "    \"\"\"Make and display cluster predictions.\"\"\"\n",
    "    new_data = pd.DataFrame(features)\n",
    "    predictions = model.predict(PandasDataLoader(new_data))\n",
    "    print(f\"Predicted clusters: {predictions.values}\")"
   ]
  },
  {
   "cell_type": "code",
   "execution_count": 7,
   "id": "3041dae2-47ed-4580-8517-c6c1c22f760b",
   "metadata": {},
   "outputs": [
    {
     "name": "stdout",
     "output_type": "stream",
     "text": [
      "Predicted clusters: [2 2 2]\n"
     ]
    }
   ],
   "source": [
    "predict_clusters(auto_model, {\n",
    "    'x1': [0.5, 1.5, 2.5],\n",
    "    'x2': [0.3, 1.2, 2.1],\n",
    "    'x3': [0.7, 3.5, 6.1],\n",
    "})"
   ]
  },
  {
   "cell_type": "code",
   "execution_count": 8,
   "id": "d6d7553b-5651-40e4-8a73-a6e9ab0102fb",
   "metadata": {},
   "outputs": [
    {
     "name": "stdout",
     "output_type": "stream",
     "text": [
      "Predicted clusters: [2 2 2]\n"
     ]
    }
   ],
   "source": [
    "# Model persistence demo\n",
    "loaded_model = MODEL_REGISTRY['kmeans']['class'].load(\"best_model.joblib\")\n",
    "predict_clusters(loaded_model, {\n",
    "    'x1': [1.2, 2.3, 3.4],\n",
    "    'x2': [0.8, 1.9, 2.7],\n",
    "    'x3': [1.5, 2.6, 4.1],\n",
    "})"
   ]
  },
  {
   "cell_type": "code",
   "execution_count": null,
   "id": "021a868d-a3b5-49d1-923d-89cb6c54ab7d",
   "metadata": {},
   "outputs": [],
   "source": []
  }
 ],
 "metadata": {
  "kernelspec": {
   "display_name": "Python 3 (ipykernel)",
   "language": "python",
   "name": "python3"
  },
  "language_info": {
   "codemirror_mode": {
    "name": "ipython",
    "version": 3
   },
   "file_extension": ".py",
   "mimetype": "text/x-python",
   "name": "python",
   "nbconvert_exporter": "python",
   "pygments_lexer": "ipython3",
   "version": "3.11.10"
  },
  "widgets": {
   "application/vnd.jupyter.widget-state+json": {
    "state": {},
    "version_major": 2,
    "version_minor": 0
   }
  }
 },
 "nbformat": 4,
 "nbformat_minor": 5
}
