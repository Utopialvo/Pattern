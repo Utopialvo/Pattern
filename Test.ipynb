{
 "cells": [
  {
   "cell_type": "code",
   "execution_count": 1,
   "id": "806cbb47-33cf-4196-9987-2177304c053e",
   "metadata": {},
   "outputs": [],
   "source": [
    "import pandas as pd"
   ]
  },
  {
   "cell_type": "code",
   "execution_count": 2,
   "id": "11083fae-6042-4d61-922b-d16fbea9399c",
   "metadata": {},
   "outputs": [],
   "source": [
    "from sklearn.datasets import make_blobs"
   ]
  },
  {
   "cell_type": "code",
   "execution_count": 3,
   "id": "76d6bba5-ad4e-4060-9251-f2ccf30710e6",
   "metadata": {},
   "outputs": [],
   "source": [
    "X, y, c = make_blobs(n_samples=3000, n_features=3, centers=5, cluster_std=1.0, center_box=(-150.0, 15.0), shuffle=True, random_state=0, return_centers=True)"
   ]
  },
  {
   "cell_type": "code",
   "execution_count": 4,
   "id": "7cb68e9a-290d-4aec-9f0f-94aa17857153",
   "metadata": {},
   "outputs": [],
   "source": [
    "data = pd.DataFrame(X, columns=[f'x{i+1}' for i in range(X.shape[1])])"
   ]
  },
  {
   "cell_type": "code",
   "execution_count": 5,
   "id": "8f7d3fdb-52a2-47d4-9ff6-516c472aff76",
   "metadata": {},
   "outputs": [],
   "source": [
    "data.to_parquet('sample.parquet')"
   ]
  },
  {
   "cell_type": "markdown",
   "id": "2a9c5a13-567f-4e80-96ea-2cfe0e76ccfb",
   "metadata": {},
   "source": [
    "# Case 1"
   ]
  },
  {
   "cell_type": "code",
   "execution_count": 6,
   "id": "55556d9d-17ad-42e2-a308-7bd8a4efde3f",
   "metadata": {},
   "outputs": [],
   "source": [
    "# Создание конфигурации\n",
    "config = {\n",
    "    \"data_source\": \"pandas\",\n",
    "    \"data_path\": \"sample.parquet\",\n",
    "    \"algorithm\": \"kmeans\",\n",
    "    \"params\": {\n",
    "        \"n_clusters\": [3, 5],\n",
    "        \"init\": [\"k-means++\"],\n",
    "        'max_iter': [100]\n",
    "    },\n",
    "    \"metric\": \"silhouette\",\n",
    "    \"output_path\": \"best_kmeans.joblib\"\n",
    "}\n",
    "\n",
    "# config = {\n",
    "#   \"data_source\": \"spark\",\n",
    "#   \"data_path\": \"hdfs://data\",\n",
    "#   \"preprocessing\": {\n",
    "#     \"normalization\": {\n",
    "#       \"methods\": {\n",
    "#         \"feature1\": \"minmax\",\n",
    "#         \"feature2\": \"zscore\"\n",
    "#       }\n",
    "#     }\n",
    "#   },\n",
    "#   \"algorithm\": \"kmeans\",\n",
    "#   \"params\": {\"n_clusters\": [3,5]},\n",
    "#   \"metric\": \"silhouette\"\n",
    "# }\n",
    "\n",
    "\n",
    "# Сохранение конфига\n",
    "import json\n",
    "with open('config.json', 'w') as f:\n",
    "    json.dump(config, f, indent=2)"
   ]
  },
  {
   "cell_type": "code",
   "execution_count": 7,
   "id": "b15e0739-f65a-46da-a963-8ef4289e7041",
   "metadata": {},
   "outputs": [],
   "source": [
    "# Инициализация компонентов\n",
    "from data.loaders import PandasDataLoader\n",
    "from models.sklearn_cluster import SklearnKMeans\n",
    "import pandas as pd\n",
    "from metrics.quality import SilhouetteScore\n",
    "from optimization.strategies import GridSearch\n",
    "\n",
    "data = pd.read_parquet(config['data_path'])\n",
    "loader = PandasDataLoader(data)\n",
    "\n",
    "# Ручной запуск пайплайна\n",
    "optimizer = GridSearch()\n",
    "best_params = optimizer.find_best(\n",
    "    SklearnKMeans,\n",
    "    loader,\n",
    "    config['params'],\n",
    "    SilhouetteScore()\n",
    ")\n",
    "\n",
    "# Обучение финальной модели\n",
    "best_model = SklearnKMeans(best_params)\n",
    "best_model.fit(loader)\n",
    "best_model.save(config['output_path'])"
   ]
  },
  {
   "cell_type": "code",
   "execution_count": 8,
   "id": "93fd7c5d-baac-4e5e-9b5e-458b9174dbc4",
   "metadata": {},
   "outputs": [
    {
     "data": {
      "text/plain": [
       "{'n_clusters': 5, 'init': 'k-means++', 'max_iter': 100}"
      ]
     },
     "execution_count": 8,
     "metadata": {},
     "output_type": "execute_result"
    }
   ],
   "source": [
    "best_params"
   ]
  },
  {
   "cell_type": "code",
   "execution_count": 9,
   "id": "c7af77be-d2a6-4839-b93d-c4fbbba31bd2",
   "metadata": {},
   "outputs": [
    {
     "name": "stdout",
     "output_type": "stream",
     "text": [
      "Предсказанные кластеры: [2 2 2]\n",
      "Центроиды кластеров:\n",
      "Кластер 0: [-86.71765646 -19.37661801 -62.7420693 ]\n",
      "Кластер 1: [ -56.34177069    2.69520837 -138.27478386]\n",
      "Кластер 2: [-77.79753144  -2.81724278   9.02471286]\n",
      "Кластер 3: [-60.16579643 -80.10752269 -43.40913948]\n",
      "Кластер 4: [-59.48945757 -32.06058728 -50.50337955]\n"
     ]
    }
   ],
   "source": [
    "# Загрузка модели\n",
    "model = SklearnKMeans.load(\"best_kmeans.joblib\")\n",
    "\n",
    "# Новые данные для предсказания\n",
    "new_data = pd.DataFrame({\n",
    "    'x1': [0.5, 1.5, 2.5],\n",
    "    'x2': [0.3, 1.2, 2.1],\n",
    "    'x3': [0.7, 3.5, 6.1],\n",
    "})\n",
    "\n",
    "# Предсказание кластеров\n",
    "predictions = model.predict(new_data)\n",
    "print(f\"Предсказанные кластеры: {predictions.values}\")\n",
    "\n",
    "# Доступ к центроидам\n",
    "print(\"Центроиды кластеров:\")\n",
    "for i, centroid in enumerate(model.model_data['centroids']):\n",
    "    print(f\"Кластер {i}: {centroid}\")"
   ]
  },
  {
   "cell_type": "markdown",
   "id": "f43c0ad2-f491-49d3-aca1-83aea5f2bd35",
   "metadata": {},
   "source": [
    "# Case 2"
   ]
  },
  {
   "cell_type": "code",
   "execution_count": 10,
   "id": "ee98d24e-95d1-4ce4-9b0d-f7c7b38c6665",
   "metadata": {},
   "outputs": [],
   "source": [
    "import pandas as pd\n",
    "from core.api import train_pipeline\n",
    "from config.registries import METRIC_REGISTRY, MODEL_REGISTRY\n",
    "from core.factory import factory"
   ]
  },
  {
   "cell_type": "code",
   "execution_count": 11,
   "id": "1f7d6d6c-c11c-4464-af14-8963f8142faf",
   "metadata": {},
   "outputs": [
    {
     "name": "stdout",
     "output_type": "stream",
     "text": [
      "Доступные алгоритмы: ['kmeans', 'dbscan']\n"
     ]
    }
   ],
   "source": [
    "# 1. Выбор алгоритма\n",
    "print(\"Доступные алгоритмы:\", list(MODEL_REGISTRY.keys()))"
   ]
  },
  {
   "cell_type": "code",
   "execution_count": 12,
   "id": "c1a7bcd2-55d1-4351-9450-e9d798234d39",
   "metadata": {},
   "outputs": [
    {
     "name": "stdout",
     "output_type": "stream",
     "text": [
      "Параметры KMeans:\n",
      "  n_clusters: Number of clusters (positive integer)\n",
      "  init: Initialization method [k-means++, random]\n",
      "  max_iter: Maximum iterations (positive integer)\n"
     ]
    }
   ],
   "source": [
    "# 2. Просмотр параметров алгоритма\n",
    "kmeans_params = MODEL_REGISTRY['kmeans']['params_help']\n",
    "print(\"Параметры KMeans:\")\n",
    "for param, desc in kmeans_params.items():\n",
    "    print(f\"  {param}: {desc}\")"
   ]
  },
  {
   "cell_type": "code",
   "execution_count": 13,
   "id": "5581c5f6-5065-4400-a82f-b414ad33b5e3",
   "metadata": {
    "scrolled": true
   },
   "outputs": [
    {
     "name": "stdout",
     "output_type": "stream",
     "text": [
      "Best params: {'algorithm': 'lloyd', 'copy_x': True, 'init': 'random', 'max_iter': 100, 'n_clusters': 5, 'n_init': 'auto', 'random_state': None, 'tol': 0.0001, 'verbose': 0}\n",
      "Инерция: 8989.511303524969\n",
      "Cluster centroids: [[ -59.48945757  -32.06058728  -50.50337955]\n",
      " [ -77.79753144   -2.81724278    9.02471286]\n",
      " [ -56.34177069    2.69520837 -138.27478386]\n",
      " [ -60.16579643  -80.10752269  -43.40913948]\n",
      " [ -86.71765646  -19.37661801  -62.7420693 ]]\n"
     ]
    }
   ],
   "source": [
    "df = pd.read_parquet(\"sample.parquet\")\n",
    "\n",
    "# Обучение модели\n",
    "model = train_pipeline(\n",
    "    data_src=df,\n",
    "    algorithm=\"kmeans\",\n",
    "    param_grid={\n",
    "        \"n_clusters\": [3, 4, 5, 6 , 7],\n",
    "        \"init\": [\"k-means++\", \"random\"],\n",
    "        'max_iter': [100]},\n",
    "    metric=\"silhouette\",\n",
    "    optimizer=\"random\"\n",
    ")\n",
    "# Сохранение и загрузка\n",
    "model.save(\"best_model.joblib\")\n",
    "# Анализ результатов\n",
    "print(f\"Best params: {model.model.get_params()}\")\n",
    "print(f\"Инерция: {model.model.inertia_}\")\n",
    "print(f\"Cluster centroids: {model.model_data['centroids']}\")"
   ]
  },
  {
   "cell_type": "code",
   "execution_count": 14,
   "id": "e9f07c34-2ee5-4748-883d-9fc3c9c72025",
   "metadata": {},
   "outputs": [
    {
     "name": "stdout",
     "output_type": "stream",
     "text": [
      "Предсказанные кластеры: [1 1 1]\n",
      "Центроиды кластеров:\n",
      "Кластер 0: [-59.48945757 -32.06058728 -50.50337955]\n",
      "Кластер 1: [-77.79753144  -2.81724278   9.02471286]\n",
      "Кластер 2: [ -56.34177069    2.69520837 -138.27478386]\n",
      "Кластер 3: [-60.16579643 -80.10752269 -43.40913948]\n",
      "Кластер 4: [-86.71765646 -19.37661801 -62.7420693 ]\n"
     ]
    }
   ],
   "source": [
    "model = MODEL_REGISTRY['kmeans'].get('class').load(\"best_model.joblib\")\n",
    "\n",
    "# Новые данные для предсказания\n",
    "new_data = pd.DataFrame({\n",
    "    'x1': [0.5, 1.5, 2.5],\n",
    "    'x2': [0.3, 1.2, 2.1],\n",
    "    'x3': [0.7, 3.5, 6.1],\n",
    "})\n",
    "\n",
    "# Предсказание кластеров\n",
    "predictions = model.predict(new_data)\n",
    "print(f\"Предсказанные кластеры: {predictions.values}\")\n",
    "\n",
    "# Доступ к центроидам\n",
    "print(\"Центроиды кластеров:\")\n",
    "for i, centroid in enumerate(model.model_data['centroids']):\n",
    "    print(f\"Кластер {i}: {centroid}\")"
   ]
  },
  {
   "cell_type": "code",
   "execution_count": null,
   "id": "b5397dd2-5de0-4b2a-9bea-5459ae5a3a32",
   "metadata": {},
   "outputs": [],
   "source": []
  },
  {
   "cell_type": "code",
   "execution_count": null,
   "id": "c829a5b1-d9d9-4877-8293-17c28e1242c3",
   "metadata": {},
   "outputs": [],
   "source": []
  }
 ],
 "metadata": {
  "kernelspec": {
   "display_name": "Python 3 (ipykernel)",
   "language": "python",
   "name": "python3"
  },
  "language_info": {
   "codemirror_mode": {
    "name": "ipython",
    "version": 3
   },
   "file_extension": ".py",
   "mimetype": "text/x-python",
   "name": "python",
   "nbconvert_exporter": "python",
   "pygments_lexer": "ipython3",
   "version": "3.11.10"
  },
  "widgets": {
   "application/vnd.jupyter.widget-state+json": {
    "state": {},
    "version_major": 2,
    "version_minor": 0
   }
  }
 },
 "nbformat": 4,
 "nbformat_minor": 5
}
