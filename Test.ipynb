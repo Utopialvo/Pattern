{
 "cells": [
  {
   "cell_type": "code",
   "execution_count": 1,
   "id": "7e583916-ae30-4a3b-95bf-600bd6169c8d",
   "metadata": {},
   "outputs": [],
   "source": [
    "import pandas as pd\n",
    "from sklearn.datasets import make_blobs\n",
    "from core.api import train_pipeline\n",
    "from config.registries import MODEL_REGISTRY\n",
    "from data.loaders import PandasDataLoader"
   ]
  },
  {
   "cell_type": "code",
   "execution_count": 2,
   "id": "c9b9d2e3-a022-4988-848a-e0ce21ac2558",
   "metadata": {},
   "outputs": [],
   "source": [
    "X, _, centers = make_blobs(\n",
    "    n_samples=3000,\n",
    "    n_features=3,\n",
    "    centers=5,\n",
    "    cluster_std=1.0,\n",
    "    random_state=0,\n",
    "    return_centers=True\n",
    ")\n",
    "pd.DataFrame(X, columns=[f'x{i+1}' for i in range(3)]).to_parquet('data.parquet')"
   ]
  },
  {
   "cell_type": "code",
   "execution_count": 3,
   "id": "23bc8905-d5d3-450f-91e5-11512a0aed4d",
   "metadata": {},
   "outputs": [
    {
     "data": {
      "text/html": [
       "<div>\n",
       "<style scoped>\n",
       "    .dataframe tbody tr th:only-of-type {\n",
       "        vertical-align: middle;\n",
       "    }\n",
       "\n",
       "    .dataframe tbody tr th {\n",
       "        vertical-align: top;\n",
       "    }\n",
       "\n",
       "    .dataframe thead th {\n",
       "        text-align: right;\n",
       "    }\n",
       "</style>\n",
       "<table border=\"1\" class=\"dataframe\">\n",
       "  <thead>\n",
       "    <tr style=\"text-align: right;\">\n",
       "      <th></th>\n",
       "      <th>x1</th>\n",
       "      <th>x2</th>\n",
       "      <th>x3</th>\n",
       "    </tr>\n",
       "  </thead>\n",
       "  <tbody>\n",
       "    <tr>\n",
       "      <th>0</th>\n",
       "      <td>-2.803323</td>\n",
       "      <td>6.091965</td>\n",
       "      <td>0.560062</td>\n",
       "    </tr>\n",
       "    <tr>\n",
       "      <th>1</th>\n",
       "      <td>1.005863</td>\n",
       "      <td>2.250111</td>\n",
       "      <td>2.111326</td>\n",
       "    </tr>\n",
       "    <tr>\n",
       "      <th>2</th>\n",
       "      <td>-1.664214</td>\n",
       "      <td>8.968215</td>\n",
       "      <td>9.462399</td>\n",
       "    </tr>\n",
       "    <tr>\n",
       "      <th>3</th>\n",
       "      <td>0.215323</td>\n",
       "      <td>4.218356</td>\n",
       "      <td>1.265304</td>\n",
       "    </tr>\n",
       "    <tr>\n",
       "      <th>4</th>\n",
       "      <td>-1.287203</td>\n",
       "      <td>8.312072</td>\n",
       "      <td>8.308078</td>\n",
       "    </tr>\n",
       "    <tr>\n",
       "      <th>...</th>\n",
       "      <td>...</td>\n",
       "      <td>...</td>\n",
       "      <td>...</td>\n",
       "    </tr>\n",
       "    <tr>\n",
       "      <th>2995</th>\n",
       "      <td>1.211350</td>\n",
       "      <td>-0.541304</td>\n",
       "      <td>2.489197</td>\n",
       "    </tr>\n",
       "    <tr>\n",
       "      <th>2996</th>\n",
       "      <td>-2.149935</td>\n",
       "      <td>7.231925</td>\n",
       "      <td>0.423440</td>\n",
       "    </tr>\n",
       "    <tr>\n",
       "      <th>2997</th>\n",
       "      <td>1.123496</td>\n",
       "      <td>-0.304882</td>\n",
       "      <td>2.893082</td>\n",
       "    </tr>\n",
       "    <tr>\n",
       "      <th>2998</th>\n",
       "      <td>0.102689</td>\n",
       "      <td>10.071523</td>\n",
       "      <td>-9.534722</td>\n",
       "    </tr>\n",
       "    <tr>\n",
       "      <th>2999</th>\n",
       "      <td>1.530365</td>\n",
       "      <td>4.957573</td>\n",
       "      <td>0.881309</td>\n",
       "    </tr>\n",
       "  </tbody>\n",
       "</table>\n",
       "<p>3000 rows × 3 columns</p>\n",
       "</div>"
      ],
      "text/plain": [
       "            x1         x2        x3\n",
       "0    -2.803323   6.091965  0.560062\n",
       "1     1.005863   2.250111  2.111326\n",
       "2    -1.664214   8.968215  9.462399\n",
       "3     0.215323   4.218356  1.265304\n",
       "4    -1.287203   8.312072  8.308078\n",
       "...        ...        ...       ...\n",
       "2995  1.211350  -0.541304  2.489197\n",
       "2996 -2.149935   7.231925  0.423440\n",
       "2997  1.123496  -0.304882  2.893082\n",
       "2998  0.102689  10.071523 -9.534722\n",
       "2999  1.530365   4.957573  0.881309\n",
       "\n",
       "[3000 rows x 3 columns]"
      ]
     },
     "execution_count": 3,
     "metadata": {},
     "output_type": "execute_result"
    }
   ],
   "source": [
    "pd.read_parquet('data.parquet')"
   ]
  },
  {
   "cell_type": "code",
   "execution_count": 4,
   "id": "73ae339f-7918-4172-939c-e451f10b8ffa",
   "metadata": {},
   "outputs": [],
   "source": [
    "base_config = {\n",
    "  \"data_source\": \"pandas\",\n",
    "  \"optimizer\":\"tpe\",\n",
    "  \"preprocessing\": {\n",
    "    \"normalizer\": {\n",
    "      \"methods\":{\"x1\": \"zscore\",\n",
    "                \"x2\": \"range\",\n",
    "                \"x3\": \"minmax\"},\n",
    "        \"columns\": [\"x1\", \"x2\", \"x3\"]\n",
    "    },\n",
    "    \"sampler\": {\n",
    "      \"data_src\": [\n",
    "    \"data.parquet\",\n",
    "    None\n",
    "  ]\n",
    "    }\n",
    "  },\n",
    "  \"data_path\": [\n",
    "    \"data.parquet\",\n",
    "    None\n",
    "  ],\n",
    "  \"algorithm\": \"kmeans\",\n",
    "  \"params\": {\n",
    "    \"n_clusters\": [\n",
    "      3,\n",
    "      5,\n",
    "      7,\n",
    "      10\n",
    "    ],\n",
    "    \"init\": [\n",
    "      \"k-means++\",\n",
    "      \"random\"\n",
    "    ],\n",
    "    \"max_iter\": [\n",
    "      100,\n",
    "      200\n",
    "    ]\n",
    "  },\n",
    "  \"metric\": \"attribute\",\n",
    "  \"output_path\": \"best_kmeans.joblib\"\n",
    "}\n",
    "\n",
    "import json\n",
    "with open('config.json', 'w') as f:\n",
    "    json.dump(base_config, f, indent=2)"
   ]
  },
  {
   "cell_type": "markdown",
   "id": "7c1281bc-8e7d-43e1-9a88-9b0393776fc3",
   "metadata": {},
   "source": [
    "# Case 1"
   ]
  },
  {
   "cell_type": "code",
   "execution_count": 5,
   "id": "42f525fc-d4b3-4a20-b9f7-55aeed95793d",
   "metadata": {},
   "outputs": [],
   "source": [
    "def analyze_results(model: object) -> None:\n",
    "    \"\"\"Display model training results.\"\"\"\n",
    "    print(f\"Optimal parameters: {model.model.get_params()}\")\n",
    "    print(f\"Inertia: {model.model.inertia_}\")\n",
    "    print(\"Cluster centroids:\")\n",
    "    for i, c in enumerate(model.model_data['centroids']):\n",
    "        print(f\"Cluster {i}: {c}\")\n",
    "\n",
    "def demo_pipeline(config: dict, spark=None) -> object:\n",
    "    \"\"\"Execute full training pipeline.\"\"\"\n",
    "    print(f\"Available algorithms: {list(MODEL_REGISTRY.keys())}\")\n",
    "    print(f\"\\n{config.get('algorithm', 'kmeans')} parameters:\")\n",
    "    for param, desc in MODEL_REGISTRY[config.get('algorithm', 'kmeans')]['params_help'].items():\n",
    "        print(f\"  {param}: {desc}\")\n",
    "\n",
    "    model = train_pipeline(\n",
    "        features_src=config['data_path'][0],\n",
    "        similarity_src=config['data_path'][1],\n",
    "        algorithm=config.get('algorithm', 'kmeans'),\n",
    "        param_grid=config.get('params', {}),\n",
    "        normalizer=config.get('preprocessing').get('normalizer'),\n",
    "        sampler=config.get('preprocessing').get('sampler'),\n",
    "        metric=config['metric'],\n",
    "        optimizer=config.get('optimizer', 'grid'),\n",
    "        spark = spark\n",
    "    )\n",
    "    if 'output_path' in config:\n",
    "        model.save(config['output_path'])\n",
    "    return model"
   ]
  },
  {
   "cell_type": "code",
   "execution_count": 6,
   "id": "77664138-ba58-49d8-98b1-5cd72c48384e",
   "metadata": {
    "scrolled": true
   },
   "outputs": [
    {
     "name": "stdout",
     "output_type": "stream",
     "text": [
      "Available algorithms: ['kmeans', 'dbscan', 'dmon', 'louvain', 'spectral']\n",
      "\n",
      "kmeans parameters:\n",
      "  n_clusters: Number of clusters (positive integer)\n",
      "  init: Initialization method [k-means++, random]\n",
      "  max_iter: Maximum iterations (positive integer)\n",
      "2025-05-16 09:46:30,288 - pattern - INFO - Loading data from data.parquet\n"
     ]
    },
    {
     "name": "stderr",
     "output_type": "stream",
     "text": [
      "[I 2025-05-16 09:46:30,299] A new study created in memory with name: no-name-d0922a26-a75c-4c04-9ebf-9413e7c8d668\n",
      "[I 2025-05-16 09:46:30,340] Trial 0 finished with value: 0.3806324114028718 and parameters: {'n_clusters': 7, 'init': 'k-means++', 'max_iter': 155}. Best is trial 0 with value: 0.3806324114028718.\n",
      "[I 2025-05-16 09:46:30,353] Trial 1 finished with value: 0.4054113226834834 and parameters: {'n_clusters': 6, 'init': 'k-means++', 'max_iter': 190}. Best is trial 1 with value: 0.4054113226834834.\n",
      "[I 2025-05-16 09:46:30,381] Trial 2 finished with value: 0.41253755731126984 and parameters: {'n_clusters': 10, 'init': 'random', 'max_iter': 153}. Best is trial 2 with value: 0.41253755731126984.\n",
      "[I 2025-05-16 09:46:30,392] Trial 3 finished with value: 0.41783196479814216 and parameters: {'n_clusters': 7, 'init': 'k-means++', 'max_iter': 108}. Best is trial 3 with value: 0.41783196479814216.\n",
      "[I 2025-05-16 09:46:30,407] Trial 4 finished with value: 0.40660666949644847 and parameters: {'n_clusters': 3, 'init': 'k-means++', 'max_iter': 187}. Best is trial 3 with value: 0.41783196479814216.\n",
      "[I 2025-05-16 09:46:30,419] Trial 5 finished with value: 0.41521301778522846 and parameters: {'n_clusters': 10, 'init': 'k-means++', 'max_iter': 178}. Best is trial 3 with value: 0.41783196479814216.\n",
      "[I 2025-05-16 09:46:30,430] Trial 6 finished with value: 0.40660666949644847 and parameters: {'n_clusters': 3, 'init': 'k-means++', 'max_iter': 195}. Best is trial 3 with value: 0.41783196479814216.\n",
      "[I 2025-05-16 09:46:30,440] Trial 7 finished with value: 0.3545702219852228 and parameters: {'n_clusters': 7, 'init': 'k-means++', 'max_iter': 178}. Best is trial 3 with value: 0.41783196479814216.\n",
      "[I 2025-05-16 09:46:30,450] Trial 8 finished with value: 0.3727067127425071 and parameters: {'n_clusters': 6, 'init': 'k-means++', 'max_iter': 162}. Best is trial 3 with value: 0.41783196479814216.\n",
      "[I 2025-05-16 09:46:30,470] Trial 9 finished with value: 0.38631924964386444 and parameters: {'n_clusters': 7, 'init': 'random', 'max_iter': 168}. Best is trial 3 with value: 0.41783196479814216.\n",
      "[I 2025-05-16 09:46:30,499] Trial 10 finished with value: 0.38210301510982825 and parameters: {'n_clusters': 5, 'init': 'random', 'max_iter': 102}. Best is trial 3 with value: 0.41783196479814216.\n",
      "[I 2025-05-16 09:46:30,516] Trial 11 finished with value: 0.40430431352806084 and parameters: {'n_clusters': 10, 'init': 'k-means++', 'max_iter': 120}. Best is trial 3 with value: 0.41783196479814216.\n",
      "[I 2025-05-16 09:46:30,532] Trial 12 finished with value: 0.4097441880843426 and parameters: {'n_clusters': 9, 'init': 'k-means++', 'max_iter': 134}. Best is trial 3 with value: 0.41783196479814216.\n",
      "[I 2025-05-16 09:46:30,551] Trial 13 finished with value: 0.3920480376589242 and parameters: {'n_clusters': 9, 'init': 'k-means++', 'max_iter': 137}. Best is trial 3 with value: 0.41783196479814216.\n",
      "[I 2025-05-16 09:46:30,608] Trial 14 finished with value: 0.40013317562134526 and parameters: {'n_clusters': 8, 'init': 'random', 'max_iter': 101}. Best is trial 3 with value: 0.41783196479814216.\n",
      "[I 2025-05-16 09:46:30,633] Trial 15 finished with value: 0.39463035414338765 and parameters: {'n_clusters': 5, 'init': 'k-means++', 'max_iter': 118}. Best is trial 3 with value: 0.41783196479814216.\n"
     ]
    },
    {
     "name": "stdout",
     "output_type": "stream",
     "text": [
      "Optimal parameters: {'algorithm': 'lloyd', 'copy_x': True, 'init': 'k-means++', 'max_iter': 108, 'n_clusters': 7, 'n_init': 'auto', 'random_state': None, 'tol': 0.0001, 'verbose': 0}\n",
      "Inertia: 37.213091847792896\n",
      "Cluster centroids:\n",
      "Cluster 0: [1.37603121 0.05942681 0.3269848 ]\n",
      "Cluster 1: [-0.73958567  0.06985755  0.72308954]\n",
      "Cluster 2: [-1.54252034  0.07527299  0.5991729 ]\n",
      "Cluster 3: [ 0.16585971 -0.48229565  0.64069679]\n",
      "Cluster 4: [0.6186214  0.2364423  0.12907733]\n",
      "Cluster 5: [ 0.76159037 -0.21920287  0.64567791]\n",
      "Cluster 6: [-0.02375996  0.13531785  0.71759188]\n"
     ]
    }
   ],
   "source": [
    "manual_model = demo_pipeline(base_config)\n",
    "analyze_results(manual_model)"
   ]
  },
  {
   "cell_type": "code",
   "execution_count": 7,
   "id": "f4457a38-8687-4e94-8b03-212e87b598b1",
   "metadata": {},
   "outputs": [],
   "source": [
    "def predict_clusters(model: object, features: dict) -> None:\n",
    "    \"\"\"Make and display cluster predictions.\"\"\"\n",
    "    new_data = pd.DataFrame(features)\n",
    "    predictions = model.predict(PandasDataLoader(new_data))\n",
    "    print(f\"Predicted clusters: {predictions}\")"
   ]
  },
  {
   "cell_type": "code",
   "execution_count": 8,
   "id": "3041dae2-47ed-4580-8517-c6c1c22f760b",
   "metadata": {},
   "outputs": [
    {
     "name": "stdout",
     "output_type": "stream",
     "text": [
      "Predicted clusters: [6 5 5]\n"
     ]
    }
   ],
   "source": [
    "predict_clusters(manual_model, {\n",
    "    'x1': [0.5, 1.5, 2.5],\n",
    "    'x2': [0.3, 1.2, 2.1],\n",
    "    'x3': [0.7, 3.5, 6.1],\n",
    "})"
   ]
  },
  {
   "cell_type": "code",
   "execution_count": 9,
   "id": "87f6ee39-fe27-47c2-a2d5-af8a8c387fe5",
   "metadata": {},
   "outputs": [
    {
     "data": {
      "text/html": [
       "<div>\n",
       "<style scoped>\n",
       "    .dataframe tbody tr th:only-of-type {\n",
       "        vertical-align: middle;\n",
       "    }\n",
       "\n",
       "    .dataframe tbody tr th {\n",
       "        vertical-align: top;\n",
       "    }\n",
       "\n",
       "    .dataframe thead th {\n",
       "        text-align: right;\n",
       "    }\n",
       "</style>\n",
       "<table border=\"1\" class=\"dataframe\">\n",
       "  <thead>\n",
       "    <tr style=\"text-align: right;\">\n",
       "      <th></th>\n",
       "      <th>x1</th>\n",
       "      <th>x2</th>\n",
       "      <th>x3</th>\n",
       "    </tr>\n",
       "  </thead>\n",
       "  <tbody>\n",
       "    <tr>\n",
       "      <th>1801</th>\n",
       "      <td>0.288995</td>\n",
       "      <td>7.132011</td>\n",
       "      <td>9.805073</td>\n",
       "    </tr>\n",
       "    <tr>\n",
       "      <th>1190</th>\n",
       "      <td>1.812473</td>\n",
       "      <td>8.278505</td>\n",
       "      <td>-8.916242</td>\n",
       "    </tr>\n",
       "    <tr>\n",
       "      <th>1817</th>\n",
       "      <td>-1.910309</td>\n",
       "      <td>6.940629</td>\n",
       "      <td>10.092354</td>\n",
       "    </tr>\n",
       "    <tr>\n",
       "      <th>251</th>\n",
       "      <td>1.504932</td>\n",
       "      <td>5.547709</td>\n",
       "      <td>1.821432</td>\n",
       "    </tr>\n",
       "    <tr>\n",
       "      <th>2505</th>\n",
       "      <td>2.048908</td>\n",
       "      <td>7.907490</td>\n",
       "      <td>-9.122306</td>\n",
       "    </tr>\n",
       "    <tr>\n",
       "      <th>...</th>\n",
       "      <td>...</td>\n",
       "      <td>...</td>\n",
       "      <td>...</td>\n",
       "    </tr>\n",
       "    <tr>\n",
       "      <th>2497</th>\n",
       "      <td>0.766932</td>\n",
       "      <td>-1.057664</td>\n",
       "      <td>2.490394</td>\n",
       "    </tr>\n",
       "    <tr>\n",
       "      <th>787</th>\n",
       "      <td>-2.457972</td>\n",
       "      <td>5.802214</td>\n",
       "      <td>1.331991</td>\n",
       "    </tr>\n",
       "    <tr>\n",
       "      <th>2636</th>\n",
       "      <td>-0.342108</td>\n",
       "      <td>5.177075</td>\n",
       "      <td>-0.743316</td>\n",
       "    </tr>\n",
       "    <tr>\n",
       "      <th>2538</th>\n",
       "      <td>-3.091012</td>\n",
       "      <td>5.213179</td>\n",
       "      <td>1.152132</td>\n",
       "    </tr>\n",
       "    <tr>\n",
       "      <th>402</th>\n",
       "      <td>-3.625036</td>\n",
       "      <td>5.212105</td>\n",
       "      <td>2.487436</td>\n",
       "    </tr>\n",
       "  </tbody>\n",
       "</table>\n",
       "<p>300 rows × 3 columns</p>\n",
       "</div>"
      ],
      "text/plain": [
       "            x1        x2         x3\n",
       "1801  0.288995  7.132011   9.805073\n",
       "1190  1.812473  8.278505  -8.916242\n",
       "1817 -1.910309  6.940629  10.092354\n",
       "251   1.504932  5.547709   1.821432\n",
       "2505  2.048908  7.907490  -9.122306\n",
       "...        ...       ...        ...\n",
       "2497  0.766932 -1.057664   2.490394\n",
       "787  -2.457972  5.802214   1.331991\n",
       "2636 -0.342108  5.177075  -0.743316\n",
       "2538 -3.091012  5.213179   1.152132\n",
       "402  -3.625036  5.212105   2.487436\n",
       "\n",
       "[300 rows x 3 columns]"
      ]
     },
     "execution_count": 9,
     "metadata": {},
     "output_type": "execute_result"
    }
   ],
   "source": [
    "pd.read_parquet('data.sample.parquet')"
   ]
  },
  {
   "cell_type": "code",
   "execution_count": null,
   "id": "a1a78ba8-48d2-4c83-9c1e-209c3d338f7f",
   "metadata": {},
   "outputs": [],
   "source": []
  },
  {
   "cell_type": "code",
   "execution_count": null,
   "id": "56979d03-746d-485c-b779-76e66f888407",
   "metadata": {},
   "outputs": [],
   "source": []
  },
  {
   "cell_type": "markdown",
   "id": "b5303dc7-cb59-4bf7-9e9f-099017791cca",
   "metadata": {},
   "source": [
    "# Case 2"
   ]
  },
  {
   "cell_type": "code",
   "execution_count": 10,
   "id": "8e40f667-c613-4412-8f7c-29b9403d2b9b",
   "metadata": {},
   "outputs": [],
   "source": [
    "import pandas as pd\n",
    "import matplotlib.pyplot as plt\n",
    "from models.attribute import SklearnKMeans\n",
    "from preprocessing.normalizers import PandasNormalizer\n",
    "from data.loaders import PandasDataLoader\n",
    "from metrics.quality import AttributeMetric\n",
    "import itertools"
   ]
  },
  {
   "cell_type": "code",
   "execution_count": 11,
   "id": "77e4024a-84db-40da-9ed6-b1cb4f1976fe",
   "metadata": {},
   "outputs": [
    {
     "name": "stdout",
     "output_type": "stream",
     "text": [
      "2025-05-16 09:46:30,998 - pattern - INFO - Loading data from data.parquet\n"
     ]
    }
   ],
   "source": [
    "# 1. Loading data\n",
    "loader = PandasDataLoader(\n",
    "    data_src=\"data.parquet\",\n",
    "    normalizer=None,\n",
    "    sampler=None\n",
    ")\n",
    "features, _ = loader.full_data()"
   ]
  },
  {
   "cell_type": "code",
   "execution_count": 12,
   "id": "b6c04d62-f148-4f03-bdd9-2945bf48bc34",
   "metadata": {},
   "outputs": [],
   "source": [
    "# 2. Preprocessing\n",
    "normalizer = PandasNormalizer(\n",
    "    methods={\n",
    "        \"x1\": \"zscore\",\n",
    "        \"x2\": \"range\", \n",
    "        \"x3\": \"minmax\"\n",
    "    }\n",
    ")\n",
    "normalizer.fit(features)\n",
    "normalized_features = normalizer.transform(features.copy())"
   ]
  },
  {
   "cell_type": "code",
   "execution_count": 13,
   "id": "e6c1952f-a148-4135-b39c-ea33dda0cbb1",
   "metadata": {},
   "outputs": [],
   "source": [
    "# 3. Preparing parameters for search\n",
    "param_grid = {\n",
    "    'n_clusters': [3, 5, 7, 10],\n",
    "    'init': ['k-means++', 'random'],\n",
    "    'max_iter': [100, 200]\n",
    "}"
   ]
  },
  {
   "cell_type": "code",
   "execution_count": 14,
   "id": "e6798ec4-ca4f-46ba-94ed-147dfaf2bd4e",
   "metadata": {},
   "outputs": [],
   "source": [
    "# 4. Manual Grid Search\n",
    "best_score = -1\n",
    "best_model = None\n",
    "results = []\n",
    "\n",
    "all_params = list(itertools.product(*param_grid.values()))\n",
    "\n",
    "for params_values in all_params:\n",
    "    params = dict(zip(param_grid.keys(), params_values))\n",
    "    \n",
    "    try:\n",
    "\n",
    "        model = SklearnKMeans(params)\n",
    "        \n",
    "        model.fit(PandasDataLoader(data_src=normalized_features))\n",
    "        \n",
    "        labels = model.predict(PandasDataLoader(data_src=normalized_features))\n",
    "        \n",
    "        metric = AttributeMetric()\n",
    "        score = metric.calculate(\n",
    "            data_loader=PandasDataLoader(data_src=normalized_features),\n",
    "            labels=labels,\n",
    "            model_data=model.model_data\n",
    "        )\n",
    "        \n",
    "        results.append({\n",
    "            'params': params,\n",
    "            'score': score\n",
    "        })\n",
    "        \n",
    "        if score > best_score:\n",
    "            best_score = score\n",
    "            best_model = model\n",
    "\n",
    "    except Exception as e:\n",
    "        print(f\"Skipped {params}: {str(e)}\")"
   ]
  },
  {
   "cell_type": "code",
   "execution_count": 15,
   "id": "c41e7efd-0454-42b2-aa76-83ea6a2ba208",
   "metadata": {},
   "outputs": [
    {
     "name": "stdout",
     "output_type": "stream",
     "text": [
      "Top 5 configurations:\n",
      "                                              params     score\n",
      "1  {'n_clusters': 3, 'init': 'k-means++', 'max_it...  0.410037\n",
      "0  {'n_clusters': 3, 'init': 'k-means++', 'max_it...  0.407431\n",
      "2  {'n_clusters': 3, 'init': 'random', 'max_iter'...  0.407422\n",
      "3  {'n_clusters': 3, 'init': 'random', 'max_iter'...  0.407416\n",
      "5  {'n_clusters': 5, 'init': 'k-means++', 'max_it...  0.392425\n"
     ]
    }
   ],
   "source": [
    "# 5. Analysis results\n",
    "df_results = pd.DataFrame(results)\n",
    "print(\"Top 5 configurations:\")\n",
    "print(df_results.sort_values('score', ascending=False).head(5))"
   ]
  },
  {
   "cell_type": "code",
   "execution_count": 16,
   "id": "303b34d6-86ea-4c2f-a786-1428b9a0b208",
   "metadata": {},
   "outputs": [
    {
     "data": {
      "image/png": "[encoded data removed]",
      "text/plain": [
       "<Figure size 1000x600 with 1 Axes>"
      ]
     },
     "metadata": {},
     "output_type": "display_data"
    }
   ],
   "source": [
    "# 6. Visualization\n",
    "plt.figure(figsize=(10, 6))\n",
    "for init_method in ['k-means++', 'random']:\n",
    "    subset = df_results[df_results['params'].apply(lambda x: x['init'] == init_method)]\n",
    "    plt.plot(\n",
    "        subset['params'].apply(lambda x: x['n_clusters']),\n",
    "        subset['score'],\n",
    "        marker='o',\n",
    "        label=init_method\n",
    "    )\n",
    "\n",
    "plt.xlabel('Number of Clusters')\n",
    "plt.ylabel('Silhouette Score')\n",
    "plt.title('KMeans Performance Comparison')\n",
    "plt.legend()\n",
    "plt.grid(True)\n",
    "plt.show()"
   ]
  },
  {
   "cell_type": "code",
   "execution_count": 17,
   "id": "4432f043-570f-4278-9869-e25c24980ec3",
   "metadata": {},
   "outputs": [
    {
     "name": "stdout",
     "output_type": "stream",
     "text": [
      "Best model saved with score: 0.41003728546381135\n"
     ]
    }
   ],
   "source": [
    "# 7. Keeping the best model\n",
    "if best_model:\n",
    "    best_model.save(\"best_kmeans_custom.joblib\")\n",
    "    print(f\"Best model saved with score: {best_score}\")"
   ]
  },
  {
   "cell_type": "code",
   "execution_count": null,
   "id": "189ff1c5-1c83-49ab-83c5-c24a33c1ad39",
   "metadata": {},
   "outputs": [],
   "source": []
  },
  {
   "cell_type": "markdown",
   "id": "21256b31-5074-4283-b13d-513e1e077483",
   "metadata": {},
   "source": [
    "# Graph"
   ]
  },
  {
   "cell_type": "code",
   "execution_count": 18,
   "id": "0bda3f61-be74-4d1a-b490-e295c3be30df",
   "metadata": {},
   "outputs": [
    {
     "data": {
      "image/png": "[encoded data removed]",
      "text/plain": [
       "<Figure size 1200x500 with 1 Axes>"
      ]
     },
     "metadata": {},
     "output_type": "display_data"
    }
   ],
   "source": [
    "import numpy as np\n",
    "import pandas as pd\n",
    "from sklearn.metrics import pairwise_distances\n",
    "import matplotlib.pyplot as plt\n",
    "np.random.seed(42)\n",
    "\n",
    "X = np.concatenate([\n",
    "    np.random.normal(loc=(0, 0), scale=0.5, size=(300, 2)),\n",
    "    np.random.normal(loc=(3, 3), scale=0.5, size=(350, 2)),\n",
    "    np.random.normal(loc=(-3, 3), scale=0.5, size=(350, 2))\n",
    "])\n",
    "\n",
    "dist_matrix = pairwise_distances(X)\n",
    "adj_matrix = np.zeros_like(dist_matrix)\n",
    "k = 5\n",
    "for i in range(len(X)):\n",
    "    neighbors = np.argsort(dist_matrix[i])[1:k+1]\n",
    "    adj_matrix[i, neighbors] = 1\n",
    "\n",
    "\n",
    "plt.figure(figsize=(12, 5))\n",
    "plt.scatter(X[:, 0], X[:, 1])\n",
    "plt.title('Graph Clustering')\n",
    "plt.axis('equal')\n",
    "plt.tight_layout()\n",
    "plt.show()"
   ]
  },
  {
   "cell_type": "code",
   "execution_count": 19,
   "id": "3f52bee4-7480-42de-bee3-265c76f00eab",
   "metadata": {
    "scrolled": true
   },
   "outputs": [],
   "source": [
    "pd.DataFrame(adj_matrix, columns=[f'x{i+1}' for i in range(1000)]).to_parquet('data_graph.parquet')"
   ]
  },
  {
   "cell_type": "code",
   "execution_count": 20,
   "id": "d7353a90-40d5-4090-ac78-5384d893e1e7",
   "metadata": {},
   "outputs": [
    {
     "data": {
      "text/plain": [
       "(1000, 1000)"
      ]
     },
     "execution_count": 20,
     "metadata": {},
     "output_type": "execute_result"
    }
   ],
   "source": [
    "pd.read_parquet('data_graph.parquet').values.shape"
   ]
  },
  {
   "cell_type": "code",
   "execution_count": 21,
   "id": "b136f9e1-6843-4825-b517-ea7f34016d00",
   "metadata": {},
   "outputs": [],
   "source": [
    "# louvain"
   ]
  },
  {
   "cell_type": "code",
   "execution_count": 22,
   "id": "d129a970-d220-45d4-8d38-eb0a7618ce4f",
   "metadata": {},
   "outputs": [],
   "source": [
    "def demo_pipeline(config: dict, spark=None) -> object:\n",
    "    \"\"\"Execute full training pipeline.\"\"\"\n",
    "    print(f\"Available algorithms: {list(MODEL_REGISTRY.keys())}\")\n",
    "    print(f\"\\n{config.get('algorithm', 'kmeans')} parameters:\")\n",
    "    for param, desc in MODEL_REGISTRY[config.get('algorithm', 'kmeans')]['params_help'].items():\n",
    "        print(f\"  {param}: {desc}\")\n",
    "\n",
    "    model = train_pipeline(\n",
    "        features_src=config['data_path'][0],\n",
    "        similarity_src=config['data_path'][1],\n",
    "        algorithm=config.get('algorithm', 'kmeans'),\n",
    "        param_grid=config.get('params', {}),\n",
    "        normalizer=config.get('preprocessing').get('normalizer'),\n",
    "        sampler=config.get('preprocessing').get('sampler'),\n",
    "        metric=config['metric'],\n",
    "        optimizer=config.get('optimizer', 'grid'),\n",
    "        spark = spark\n",
    "    )\n",
    "    if 'output_path' in config:\n",
    "        model.save(config['output_path'])\n",
    "    return model"
   ]
  },
  {
   "cell_type": "code",
   "execution_count": 23,
   "id": "a2692966-3280-4deb-9432-90db2d2490b4",
   "metadata": {},
   "outputs": [],
   "source": [
    "base_config = {\n",
    "  \"data_source\": \"pandas\",\n",
    "  \"optimizer\":\"tpe\",\n",
    "  \"preprocessing\": {\n",
    "    \"sampler\": {\n",
    "      \"data_src\": [\n",
    "    None,\n",
    "    \"data_graph.parquet\",\n",
    "  ]\n",
    "    }\n",
    "  },\n",
    "  \"data_path\": [\n",
    "    None,\n",
    "    \"data_graph.parquet\",\n",
    "  ],\n",
    "  \"algorithm\": \"louvain\",\n",
    "  \"params\": {\n",
    "    \"resolution\": [0.1, 0.3, 0.5, 0.7, 1.0, 1.5, 2.0],\n",
    "    \"threshold\": [1e-07, 1e-06, 1e-05, 1e-04],\n",
    "    \"max_level\": [ 5, 10, 15, 30, 45, 55]\n",
    "  },\n",
    "  \"metric\": \"graph\",\n",
    "  \"output_path\": \"best_louvain.joblib\"\n",
    "}\n",
    "\n",
    "import json\n",
    "with open('config.json', 'w') as f:\n",
    "    json.dump(base_config, f, indent=2)"
   ]
  },
  {
   "cell_type": "code",
   "execution_count": 24,
   "id": "c61d75b9-e1ee-4413-aa77-df79945c770a",
   "metadata": {
    "scrolled": true
   },
   "outputs": [
    {
     "name": "stdout",
     "output_type": "stream",
     "text": [
      "Available algorithms: ['kmeans', 'dbscan', 'dmon', 'louvain', 'spectral']\n",
      "\n",
      "louvain parameters:\n",
      "  resolution: Community size control (float, default=1.0)\n",
      "  threshold: Merge threshold for communities (float, default=0.0000001)\n",
      "  max_level: Max recursion level (int, default=15)\n",
      "2025-05-16 09:46:35,487 - pattern - INFO - Loading data from data_graph.parquet\n"
     ]
    },
    {
     "name": "stderr",
     "output_type": "stream",
     "text": [
      "[I 2025-05-16 09:46:35,524] A new study created in memory with name: no-name-61501295-61df-46a2-bbb6-75dbe53fc734\n",
      "[I 2025-05-16 09:46:35,590] Trial 0 finished with value: 0.6226483638498206 and parameters: {'resolution': 1.142745657461917, 'threshold': 7.154741770060471e-05, 'max_level': 35}. Best is trial 0 with value: 0.6226483638498206.\n",
      "[I 2025-05-16 09:46:35,655] Trial 1 finished with value: 0.6234969228114758 and parameters: {'resolution': 1.135278047694104, 'threshold': 4.242311445395658e-05, 'max_level': 37}. Best is trial 1 with value: 0.6234969228114758.\n",
      "[I 2025-05-16 09:46:35,717] Trial 2 finished with value: 0.6257599683195706 and parameters: {'resolution': 0.9314157013991157, 'threshold': 8.918812277812977e-05, 'max_level': 54}. Best is trial 2 with value: 0.6257599683195706.\n",
      "[I 2025-05-16 09:46:35,780] Trial 3 finished with value: 0.6178898120715322 and parameters: {'resolution': 0.8285388857689776, 'threshold': 7.919333130445819e-05, 'max_level': 31}. Best is trial 2 with value: 0.6257599683195706.\n",
      "[I 2025-05-16 09:46:35,848] Trial 4 finished with value: 0.6180242177649873 and parameters: {'resolution': 1.1792846660784715, 'threshold': 9.256710416543684e-05, 'max_level': 8}. Best is trial 2 with value: 0.6257599683195706.\n",
      "[I 2025-05-16 09:46:35,910] Trial 5 finished with value: 0.5954839037681914 and parameters: {'resolution': 0.26554566943292734, 'threshold': 2.1198179042885394e-06, 'max_level': 47}. Best is trial 2 with value: 0.6257599683195706.\n",
      "[I 2025-05-16 09:46:35,983] Trial 6 finished with value: 0.6182973317305839 and parameters: {'resolution': 1.5784978268047158, 'threshold': 8.701421360985724e-05, 'max_level': 54}. Best is trial 2 with value: 0.6257599683195706.\n",
      "[I 2025-05-16 09:46:36,060] Trial 7 finished with value: 0.6205565932017661 and parameters: {'resolution': 1.6184012720117749, 'threshold': 4.620178828906789e-05, 'max_level': 44}. Best is trial 2 with value: 0.6257599683195706.\n",
      "[I 2025-05-16 09:46:36,124] Trial 8 finished with value: 0.6084914045393974 and parameters: {'resolution': 0.32472140915097314, 'threshold': 6.402811003061963e-05, 'max_level': 12}. Best is trial 2 with value: 0.6257599683195706.\n",
      "[I 2025-05-16 09:46:36,206] Trial 9 finished with value: 0.6154242001968041 and parameters: {'resolution': 1.8948709423942094, 'threshold': 5.223264734283216e-05, 'max_level': 26}. Best is trial 2 with value: 0.6257599683195706.\n",
      "[I 2025-05-16 09:46:36,279] Trial 10 finished with value: 0.6323215326491577 and parameters: {'resolution': 0.6388161117673978, 'threshold': 1.8185319767327393e-05, 'max_level': 20}. Best is trial 10 with value: 0.6323215326491577.\n",
      "[I 2025-05-16 09:46:36,350] Trial 11 finished with value: 0.6141249253214759 and parameters: {'resolution': 0.7051571917624369, 'threshold': 1.3096258503826765e-05, 'max_level': 21}. Best is trial 10 with value: 0.6323215326491577.\n",
      "[I 2025-05-16 09:46:36,418] Trial 12 finished with value: 0.6162809082614276 and parameters: {'resolution': 0.6123311138623897, 'threshold': 2.7111688211874986e-05, 'max_level': 20}. Best is trial 10 with value: 0.6323215326491577.\n",
      "[I 2025-05-16 09:46:36,485] Trial 13 finished with value: 0.6129428101683755 and parameters: {'resolution': 0.475176887873872, 'threshold': 2.640616233628934e-05, 'max_level': 14}. Best is trial 10 with value: 0.6323215326491577.\n",
      "[I 2025-05-16 09:46:36,557] Trial 14 finished with value: 0.627550315916824 and parameters: {'resolution': 0.8900136338231894, 'threshold': 9.783438374166679e-05, 'max_level': 44}. Best is trial 10 with value: 0.6323215326491577.\n",
      "[I 2025-05-16 09:46:36,636] Trial 15 finished with value: 0.4968547284241806 and parameters: {'resolution': 0.10271668737567685, 'threshold': 2.9504039937976463e-05, 'max_level': 42}. Best is trial 10 with value: 0.6323215326491577.\n",
      "[I 2025-05-16 09:46:36,713] Trial 16 finished with value: 0.6171831082512628 and parameters: {'resolution': 1.4134697842935378, 'threshold': 6.0466524106022626e-05, 'max_level': 27}. Best is trial 10 with value: 0.6323215326491577.\n",
      "[I 2025-05-16 09:46:36,784] Trial 17 finished with value: 0.6238323469940052 and parameters: {'resolution': 0.558272671299054, 'threshold': 9.805230322406152e-05, 'max_level': 19}. Best is trial 10 with value: 0.6323215326491577.\n",
      "[I 2025-05-16 09:46:36,855] Trial 18 finished with value: 0.6216348802401584 and parameters: {'resolution': 0.8965740458239845, 'threshold': 4.0913503426153906e-07, 'max_level': 37}. Best is trial 10 with value: 0.6323215326491577.\n",
      "[I 2025-05-16 09:46:36,933] Trial 19 finished with value: 0.6175840831092375 and parameters: {'resolution': 1.3537917494363976, 'threshold': 1.657410612081016e-05, 'max_level': 46}. Best is trial 10 with value: 0.6323215326491577.\n",
      "[I 2025-05-16 09:46:37,004] Trial 20 finished with value: 0.6119042091017103 and parameters: {'resolution': 0.7228073691323866, 'threshold': 3.9301717882094395e-05, 'max_level': 6}. Best is trial 10 with value: 0.6323215326491577.\n",
      "[I 2025-05-16 09:46:37,079] Trial 21 finished with value: 0.6260153862135583 and parameters: {'resolution': 0.9827491336132549, 'threshold': 8.223793711906733e-05, 'max_level': 54}. Best is trial 10 with value: 0.6323215326491577.\n",
      "[I 2025-05-16 09:46:37,153] Trial 22 finished with value: 0.6241178790661187 and parameters: {'resolution': 1.0076887832749568, 'threshold': 7.92360361993043e-05, 'max_level': 50}. Best is trial 10 with value: 0.6323215326491577.\n",
      "[I 2025-05-16 09:46:37,228] Trial 23 finished with value: 0.6178898120715322 and parameters: {'resolution': 0.7864096980607116, 'threshold': 9.980440010049447e-05, 'max_level': 41}. Best is trial 10 with value: 0.6323215326491577.\n",
      "[I 2025-05-16 09:46:37,300] Trial 24 finished with value: 0.6133154539615857 and parameters: {'resolution': 0.4291580533453494, 'threshold': 8.092008569972869e-05, 'max_level': 50}. Best is trial 10 with value: 0.6323215326491577.\n",
      "[I 2025-05-16 09:46:37,377] Trial 25 finished with value: 0.6225895222537047 and parameters: {'resolution': 1.3023554183932544, 'threshold': 6.997651649370598e-05, 'max_level': 55}. Best is trial 10 with value: 0.6323215326491577.\n",
      "[I 2025-05-16 09:46:37,451] Trial 26 finished with value: 0.6225138849231447 and parameters: {'resolution': 1.0174998616816755, 'threshold': 5.3190638916812e-05, 'max_level': 49}. Best is trial 10 with value: 0.6323215326491577.\n",
      "[I 2025-05-16 09:46:37,522] Trial 27 finished with value: 0.6225407057565352 and parameters: {'resolution': 0.6293527466489237, 'threshold': 7.185077050646667e-05, 'max_level': 33}. Best is trial 10 with value: 0.6323215326491577.\n",
      "[I 2025-05-16 09:46:37,593] Trial 28 finished with value: 0.6290774350409846 and parameters: {'resolution': 0.8847947184309909, 'threshold': 9.419427062368824e-05, 'max_level': 28}. Best is trial 10 with value: 0.6323215326491577.\n",
      "[I 2025-05-16 09:46:37,666] Trial 29 finished with value: 0.6195152280176361 and parameters: {'resolution': 1.1759392305115168, 'threshold': 9.415009065909798e-05, 'max_level': 29}. Best is trial 10 with value: 0.6323215326491577.\n",
      "[I 2025-05-16 09:46:37,736] Trial 30 finished with value: 0.6281758734467343 and parameters: {'resolution': 0.8101829486384406, 'threshold': 1.0042332825644692e-05, 'max_level': 23}. Best is trial 10 with value: 0.6323215326491577.\n",
      "[I 2025-05-16 09:46:37,807] Trial 31 finished with value: 0.6178898120715322 and parameters: {'resolution': 0.8219867597484154, 'threshold': 1.0108767928101451e-05, 'max_level': 23}. Best is trial 10 with value: 0.6323215326491577.\n",
      "[I 2025-05-16 09:46:37,880] Trial 32 finished with value: 0.6226483638498208 and parameters: {'resolution': 1.1225781511908328, 'threshold': 3.760771671656142e-05, 'max_level': 14}. Best is trial 10 with value: 0.6323215326491577.\n",
      "[I 2025-05-16 09:46:37,956] Trial 33 finished with value: 0.6257599683195706 and parameters: {'resolution': 0.8793850234082007, 'threshold': 2.0214081799057856e-05, 'max_level': 24}. Best is trial 10 with value: 0.6323215326491577.\n",
      "[I 2025-05-16 09:46:38,030] Trial 34 finished with value: 0.621015049540298 and parameters: {'resolution': 0.7179384161315158, 'threshold': 6.4543958475123985e-06, 'max_level': 17}. Best is trial 10 with value: 0.6323215326491577.\n",
      "[I 2025-05-16 09:46:38,101] Trial 35 finished with value: 0.60769781587808 and parameters: {'resolution': 0.4911132569190957, 'threshold': 2.235293428142073e-05, 'max_level': 35}. Best is trial 10 with value: 0.6323215326491577.\n",
      "[I 2025-05-16 09:46:38,170] Trial 36 finished with value: 0.6063574526188291 and parameters: {'resolution': 0.34464056678099164, 'threshold': 3.4352011083782945e-05, 'max_level': 30}. Best is trial 10 with value: 0.6323215326491577.\n",
      "[I 2025-05-16 09:46:38,406] Trial 37 finished with value: 0.6141177678462366 and parameters: {'resolution': 0.905612102203559, 'threshold': 8.672467013307263e-05, 'max_level': 38}. Best is trial 10 with value: 0.6323215326491577.\n",
      "[I 2025-05-16 09:46:38,478] Trial 38 finished with value: 0.6223185341026306 and parameters: {'resolution': 1.0578218432596322, 'threshold': 7.287439705313158e-05, 'max_level': 26}. Best is trial 10 with value: 0.6323215326491577.\n",
      "[I 2025-05-16 09:46:38,556] Trial 39 finished with value: 0.6234969228114758 and parameters: {'resolution': 1.250039628098259, 'threshold': 6.273548358237221e-06, 'max_level': 33}. Best is trial 10 with value: 0.6323215326491577.\n",
      "[I 2025-05-16 09:46:38,629] Trial 40 finished with value: 0.6255379067717303 and parameters: {'resolution': 0.7854426896522583, 'threshold': 9.15382583278262e-05, 'max_level': 16}. Best is trial 10 with value: 0.6323215326491577.\n",
      "[I 2025-05-16 09:46:38,704] Trial 41 finished with value: 0.6247273626986057 and parameters: {'resolution': 0.9983786243328778, 'threshold': 8.671382466804782e-05, 'max_level': 22}. Best is trial 10 with value: 0.6323215326491577.\n",
      "[I 2025-05-16 09:46:38,774] Trial 42 finished with value: 0.6177898073895731 and parameters: {'resolution': 0.6380973270713401, 'threshold': 8.344405254013344e-05, 'max_level': 52}. Best is trial 10 with value: 0.6323215326491577.\n",
      "[I 2025-05-16 09:46:38,845] Trial 43 finished with value: 0.6180185934051986 and parameters: {'resolution': 0.9444984395901199, 'threshold': 9.478531217128632e-05, 'max_level': 28}. Best is trial 10 with value: 0.6323215326491577.\n",
      "[I 2025-05-16 09:46:38,921] Trial 44 finished with value: 0.6258725156563584 and parameters: {'resolution': 1.1144599815722436, 'threshold': 9.598593088652186e-05, 'max_level': 24}. Best is trial 10 with value: 0.6323215326491577.\n",
      "[I 2025-05-16 09:46:38,992] Trial 45 finished with value: 0.6238323469940054 and parameters: {'resolution': 0.556266414262742, 'threshold': 7.564854759585621e-05, 'max_level': 10}. Best is trial 10 with value: 0.6323215326491577.\n",
      "[I 2025-05-16 09:46:39,071] Trial 46 finished with value: 0.6184477019283298 and parameters: {'resolution': 1.5054213875130629, 'threshold': 5.845277528509712e-05, 'max_level': 18}. Best is trial 10 with value: 0.6323215326491577.\n",
      "[I 2025-05-16 09:46:39,153] Trial 47 finished with value: 0.6148395290167051 and parameters: {'resolution': 1.7726528403890391, 'threshold': 9.082650369686902e-05, 'max_level': 32}. Best is trial 10 with value: 0.6323215326491577.\n",
      "[I 2025-05-16 09:46:39,230] Trial 48 finished with value: 0.6191686099536206 and parameters: {'resolution': 0.72079919886962, 'threshold': 4.588292385778311e-05, 'max_level': 45}. Best is trial 10 with value: 0.6323215326491577.\n",
      "[I 2025-05-16 09:46:39,309] Trial 49 finished with value: 0.6273440697944471 and parameters: {'resolution': 0.8342306967137296, 'threshold': 6.66960445363144e-05, 'max_level': 52}. Best is trial 10 with value: 0.6323215326491577.\n",
      "[I 2025-05-16 09:46:39,385] Trial 50 finished with value: 0.6259229384168885 and parameters: {'resolution': 0.8314565349329487, 'threshold': 6.718531995200258e-05, 'max_level': 42}. Best is trial 10 with value: 0.6323215326491577.\n",
      "[I 2025-05-16 09:46:39,458] Trial 51 finished with value: 0.624026647680148 and parameters: {'resolution': 0.950893035788673, 'threshold': 8.408244971631205e-05, 'max_level': 52}. Best is trial 10 with value: 0.6323215326491577.\n",
      "[I 2025-05-16 09:46:39,530] Trial 52 finished with value: 0.6194927243775267 and parameters: {'resolution': 0.780225386184882, 'threshold': 7.492031710530733e-05, 'max_level': 53}. Best is trial 10 with value: 0.6323215326491577.\n",
      "[I 2025-05-16 09:46:39,603] Trial 53 finished with value: 0.6220245899228752 and parameters: {'resolution': 1.0719188064670764, 'threshold': 6.319867372211667e-05, 'max_level': 47}. Best is trial 10 with value: 0.6323215326491577.\n",
      "[I 2025-05-16 09:46:39,677] Trial 54 finished with value: 0.6257599683195706 and parameters: {'resolution': 0.8560493821438793, 'threshold': 1.193762086729113e-05, 'max_level': 55}. Best is trial 10 with value: 0.6323215326491577.\n"
     ]
    }
   ],
   "source": [
    "manual_model = demo_pipeline(base_config)"
   ]
  },
  {
   "cell_type": "code",
   "execution_count": 25,
   "id": "cd54a26a-a619-4150-836a-9cd0cc6cef36",
   "metadata": {
    "scrolled": true
   },
   "outputs": [
    {
     "data": {
      "text/plain": [
       "<models.network.LouvainCluster at 0x7de458a1a050>"
      ]
     },
     "execution_count": 25,
     "metadata": {},
     "output_type": "execute_result"
    }
   ],
   "source": [
    "manual_model"
   ]
  },
  {
   "cell_type": "code",
   "execution_count": 26,
   "id": "c5ce9a88-a45a-43ff-adc3-f06f062c4a36",
   "metadata": {},
   "outputs": [],
   "source": [
    "# spectral"
   ]
  },
  {
   "cell_type": "code",
   "execution_count": 27,
   "id": "a5d46904-4b3d-4334-9063-be13d35a784c",
   "metadata": {},
   "outputs": [],
   "source": [
    "base_config = {\n",
    "  \"data_source\": \"pandas\",\n",
    "  \"optimizer\":\"tpe\",\n",
    "  \"preprocessing\": {\n",
    "    \"sampler\": {\n",
    "      \"data_src\": [\n",
    "    None,\n",
    "    \"data_graph.parquet\",\n",
    "  ]\n",
    "    }\n",
    "  },\n",
    "  \"data_path\": [\n",
    "    None,\n",
    "    \"data_graph.parquet\",\n",
    "  ],\n",
    "  \"algorithm\": \"spectral\",\n",
    "  \"params\": {\n",
    "    \"n_clusters\": [2, 3, 4, 5, 6, 7],\n",
    "    \"n_neighbors\": [3, 10 ,15],\n",
    "    \"assign_labels\": ['kmeans', 'discretize'],\n",
    "    \"degree\":[1]\n",
    "  },\n",
    "  \"metric\": \"graph\",\n",
    "  \"output_path\": \"best_spectral.joblib\"\n",
    "}\n",
    "\n",
    "import json\n",
    "with open('config.json', 'w') as f:\n",
    "    json.dump(base_config, f, indent=2)"
   ]
  },
  {
   "cell_type": "code",
   "execution_count": 28,
   "id": "f1233859-e27d-46a0-9467-dcc85cd865eb",
   "metadata": {
    "scrolled": true
   },
   "outputs": [
    {
     "name": "stdout",
     "output_type": "stream",
     "text": [
      "Available algorithms: ['kmeans', 'dbscan', 'dmon', 'louvain', 'spectral']\n",
      "\n",
      "spectral parameters:\n",
      "  n_clusters: Number of clusters (positive integer)\n",
      "  n_neighbors: Neighbors for affinity matrix (int, optional)\n",
      "  assign_labels: Label assignment strategy (kmeans, discretize, etc)\n",
      "  degree: Degree of the polynomial kernel (int, optional)\n",
      "2025-05-16 09:46:39,770 - pattern - INFO - Loading data from data_graph.parquet\n"
     ]
    },
    {
     "name": "stderr",
     "output_type": "stream",
     "text": [
      "[I 2025-05-16 09:46:39,808] A new study created in memory with name: no-name-b9094afa-ab8d-4ba7-b37b-3152db6f9081\n",
      "/opt/conda/lib/python3.11/site-packages/sklearn/manifold/_spectral_embedding.py:310: UserWarning: Array is not symmetric, and will be converted to symmetric by average with its transpose.\n",
      "  adjacency = check_symmetric(adjacency)\n",
      "/opt/conda/lib/python3.11/site-packages/sklearn/manifold/_spectral_embedding.py:329: UserWarning: Graph is not fully connected, spectral embedding may not work as expected.\n",
      "  warnings.warn(\n",
      "[I 2025-05-16 09:46:40,187] Trial 0 finished with value: 0.5504344376559152 and parameters: {'n_clusters': 5, 'n_neighbors': 12, 'assign_labels': 'kmeans', 'degree': 1}. Best is trial 0 with value: 0.5504344376559152.\n",
      "/opt/conda/lib/python3.11/site-packages/sklearn/manifold/_spectral_embedding.py:310: UserWarning: Array is not symmetric, and will be converted to symmetric by average with its transpose.\n",
      "  adjacency = check_symmetric(adjacency)\n",
      "/opt/conda/lib/python3.11/site-packages/sklearn/manifold/_spectral_embedding.py:329: UserWarning: Graph is not fully connected, spectral embedding may not work as expected.\n",
      "  warnings.warn(\n",
      "[I 2025-05-16 09:46:40,597] Trial 1 finished with value: 0.6617083312163711 and parameters: {'n_clusters': 4, 'n_neighbors': 11, 'assign_labels': 'discretize', 'degree': 1}. Best is trial 1 with value: 0.6617083312163711.\n",
      "/opt/conda/lib/python3.11/site-packages/sklearn/manifold/_spectral_embedding.py:310: UserWarning: Array is not symmetric, and will be converted to symmetric by average with its transpose.\n",
      "  adjacency = check_symmetric(adjacency)\n",
      "/opt/conda/lib/python3.11/site-packages/sklearn/manifold/_spectral_embedding.py:329: UserWarning: Graph is not fully connected, spectral embedding may not work as expected.\n",
      "  warnings.warn(\n",
      "[I 2025-05-16 09:46:40,885] Trial 2 finished with value: 0.531282309291146 and parameters: {'n_clusters': 7, 'n_neighbors': 7, 'assign_labels': 'kmeans', 'degree': 1}. Best is trial 1 with value: 0.6617083312163711.\n",
      "/opt/conda/lib/python3.11/site-packages/sklearn/manifold/_spectral_embedding.py:310: UserWarning: Array is not symmetric, and will be converted to symmetric by average with its transpose.\n",
      "  adjacency = check_symmetric(adjacency)\n",
      "/opt/conda/lib/python3.11/site-packages/sklearn/manifold/_spectral_embedding.py:329: UserWarning: Graph is not fully connected, spectral embedding may not work as expected.\n",
      "  warnings.warn(\n",
      "[I 2025-05-16 09:46:41,101] Trial 3 finished with value: 0.5504166872227798 and parameters: {'n_clusters': 5, 'n_neighbors': 15, 'assign_labels': 'discretize', 'degree': 1}. Best is trial 1 with value: 0.6617083312163711.\n",
      "/opt/conda/lib/python3.11/site-packages/sklearn/manifold/_spectral_embedding.py:310: UserWarning: Array is not symmetric, and will be converted to symmetric by average with its transpose.\n",
      "  adjacency = check_symmetric(adjacency)\n",
      "/opt/conda/lib/python3.11/site-packages/sklearn/manifold/_spectral_embedding.py:329: UserWarning: Graph is not fully connected, spectral embedding may not work as expected.\n",
      "  warnings.warn(\n",
      "[I 2025-05-16 09:46:41,282] Trial 4 finished with value: 1.0 and parameters: {'n_clusters': 2, 'n_neighbors': 13, 'assign_labels': 'discretize', 'degree': 1}. Best is trial 4 with value: 1.0.\n",
      "/opt/conda/lib/python3.11/site-packages/sklearn/manifold/_spectral_embedding.py:310: UserWarning: Array is not symmetric, and will be converted to symmetric by average with its transpose.\n",
      "  adjacency = check_symmetric(adjacency)\n",
      "/opt/conda/lib/python3.11/site-packages/sklearn/manifold/_spectral_embedding.py:329: UserWarning: Graph is not fully connected, spectral embedding may not work as expected.\n",
      "  warnings.warn(\n",
      "[I 2025-05-16 09:46:41,458] Trial 5 finished with value: 0.5307979248915746 and parameters: {'n_clusters': 7, 'n_neighbors': 13, 'assign_labels': 'discretize', 'degree': 1}. Best is trial 4 with value: 1.0.\n",
      "/opt/conda/lib/python3.11/site-packages/sklearn/manifold/_spectral_embedding.py:310: UserWarning: Array is not symmetric, and will be converted to symmetric by average with its transpose.\n",
      "  adjacency = check_symmetric(adjacency)\n",
      "/opt/conda/lib/python3.11/site-packages/sklearn/manifold/_spectral_embedding.py:329: UserWarning: Graph is not fully connected, spectral embedding may not work as expected.\n",
      "  warnings.warn(\n",
      "[I 2025-05-16 09:46:41,661] Trial 6 finished with value: 1.0 and parameters: {'n_clusters': 2, 'n_neighbors': 11, 'assign_labels': 'discretize', 'degree': 1}. Best is trial 4 with value: 1.0.\n",
      "/opt/conda/lib/python3.11/site-packages/sklearn/manifold/_spectral_embedding.py:310: UserWarning: Array is not symmetric, and will be converted to symmetric by average with its transpose.\n",
      "  adjacency = check_symmetric(adjacency)\n",
      "/opt/conda/lib/python3.11/site-packages/sklearn/manifold/_spectral_embedding.py:329: UserWarning: Graph is not fully connected, spectral embedding may not work as expected.\n",
      "  warnings.warn(\n",
      "[I 2025-05-16 09:46:41,908] Trial 7 finished with value: 0.5504166872227798 and parameters: {'n_clusters': 5, 'n_neighbors': 8, 'assign_labels': 'discretize', 'degree': 1}. Best is trial 4 with value: 1.0.\n",
      "/opt/conda/lib/python3.11/site-packages/sklearn/manifold/_spectral_embedding.py:310: UserWarning: Array is not symmetric, and will be converted to symmetric by average with its transpose.\n",
      "  adjacency = check_symmetric(adjacency)\n",
      "/opt/conda/lib/python3.11/site-packages/sklearn/manifold/_spectral_embedding.py:329: UserWarning: Graph is not fully connected, spectral embedding may not work as expected.\n",
      "  warnings.warn(\n",
      "[I 2025-05-16 09:46:42,079] Trial 8 finished with value: 0.6617083312163711 and parameters: {'n_clusters': 4, 'n_neighbors': 10, 'assign_labels': 'discretize', 'degree': 1}. Best is trial 4 with value: 1.0.\n",
      "/opt/conda/lib/python3.11/site-packages/sklearn/manifold/_spectral_embedding.py:310: UserWarning: Array is not symmetric, and will be converted to symmetric by average with its transpose.\n",
      "  adjacency = check_symmetric(adjacency)\n",
      "/opt/conda/lib/python3.11/site-packages/sklearn/manifold/_spectral_embedding.py:329: UserWarning: Graph is not fully connected, spectral embedding may not work as expected.\n",
      "  warnings.warn(\n",
      "[I 2025-05-16 09:46:42,391] Trial 9 finished with value: 0.5504344376559152 and parameters: {'n_clusters': 5, 'n_neighbors': 11, 'assign_labels': 'kmeans', 'degree': 1}. Best is trial 4 with value: 1.0.\n",
      "/opt/conda/lib/python3.11/site-packages/sklearn/manifold/_spectral_embedding.py:310: UserWarning: Array is not symmetric, and will be converted to symmetric by average with its transpose.\n",
      "  adjacency = check_symmetric(adjacency)\n",
      "/opt/conda/lib/python3.11/site-packages/sklearn/manifold/_spectral_embedding.py:329: UserWarning: Graph is not fully connected, spectral embedding may not work as expected.\n",
      "  warnings.warn(\n",
      "[I 2025-05-16 09:46:42,908] Trial 10 finished with value: 1.0 and parameters: {'n_clusters': 2, 'n_neighbors': 4, 'assign_labels': 'kmeans', 'degree': 1}. Best is trial 4 with value: 1.0.\n",
      "/opt/conda/lib/python3.11/site-packages/sklearn/manifold/_spectral_embedding.py:310: UserWarning: Array is not symmetric, and will be converted to symmetric by average with its transpose.\n",
      "  adjacency = check_symmetric(adjacency)\n",
      "/opt/conda/lib/python3.11/site-packages/sklearn/manifold/_spectral_embedding.py:329: UserWarning: Graph is not fully connected, spectral embedding may not work as expected.\n",
      "  warnings.warn(\n",
      "[I 2025-05-16 09:46:43,188] Trial 11 finished with value: 1.0 and parameters: {'n_clusters': 2, 'n_neighbors': 15, 'assign_labels': 'discretize', 'degree': 1}. Best is trial 4 with value: 1.0.\n",
      "/opt/conda/lib/python3.11/site-packages/sklearn/manifold/_spectral_embedding.py:310: UserWarning: Array is not symmetric, and will be converted to symmetric by average with its transpose.\n",
      "  adjacency = check_symmetric(adjacency)\n",
      "/opt/conda/lib/python3.11/site-packages/sklearn/manifold/_spectral_embedding.py:329: UserWarning: Graph is not fully connected, spectral embedding may not work as expected.\n",
      "  warnings.warn(\n",
      "[I 2025-05-16 09:46:43,604] Trial 12 finished with value: 1.0 and parameters: {'n_clusters': 3, 'n_neighbors': 13, 'assign_labels': 'discretize', 'degree': 1}. Best is trial 4 with value: 1.0.\n",
      "/opt/conda/lib/python3.11/site-packages/sklearn/manifold/_spectral_embedding.py:310: UserWarning: Array is not symmetric, and will be converted to symmetric by average with its transpose.\n",
      "  adjacency = check_symmetric(adjacency)\n",
      "/opt/conda/lib/python3.11/site-packages/sklearn/manifold/_spectral_embedding.py:329: UserWarning: Graph is not fully connected, spectral embedding may not work as expected.\n",
      "  warnings.warn(\n",
      "[I 2025-05-16 09:46:43,928] Trial 13 finished with value: 1.0 and parameters: {'n_clusters': 3, 'n_neighbors': 6, 'assign_labels': 'discretize', 'degree': 1}. Best is trial 4 with value: 1.0.\n",
      "/opt/conda/lib/python3.11/site-packages/sklearn/manifold/_spectral_embedding.py:310: UserWarning: Array is not symmetric, and will be converted to symmetric by average with its transpose.\n",
      "  adjacency = check_symmetric(adjacency)\n",
      "/opt/conda/lib/python3.11/site-packages/sklearn/manifold/_spectral_embedding.py:329: UserWarning: Graph is not fully connected, spectral embedding may not work as expected.\n",
      "  warnings.warn(\n",
      "[I 2025-05-16 09:46:44,231] Trial 14 finished with value: 1.0 and parameters: {'n_clusters': 2, 'n_neighbors': 9, 'assign_labels': 'discretize', 'degree': 1}. Best is trial 4 with value: 1.0.\n",
      "/opt/conda/lib/python3.11/site-packages/sklearn/manifold/_spectral_embedding.py:310: UserWarning: Array is not symmetric, and will be converted to symmetric by average with its transpose.\n",
      "  adjacency = check_symmetric(adjacency)\n",
      "/opt/conda/lib/python3.11/site-packages/sklearn/manifold/_spectral_embedding.py:329: UserWarning: Graph is not fully connected, spectral embedding may not work as expected.\n",
      "  warnings.warn(\n",
      "[I 2025-05-16 09:46:44,454] Trial 15 finished with value: 1.0 and parameters: {'n_clusters': 3, 'n_neighbors': 13, 'assign_labels': 'discretize', 'degree': 1}. Best is trial 4 with value: 1.0.\n",
      "/opt/conda/lib/python3.11/site-packages/sklearn/manifold/_spectral_embedding.py:310: UserWarning: Array is not symmetric, and will be converted to symmetric by average with its transpose.\n",
      "  adjacency = check_symmetric(adjacency)\n",
      "/opt/conda/lib/python3.11/site-packages/sklearn/manifold/_spectral_embedding.py:329: UserWarning: Graph is not fully connected, spectral embedding may not work as expected.\n",
      "  warnings.warn(\n",
      "[I 2025-05-16 09:46:44,615] Trial 16 finished with value: 1.0 and parameters: {'n_clusters': 2, 'n_neighbors': 3, 'assign_labels': 'discretize', 'degree': 1}. Best is trial 4 with value: 1.0.\n",
      "/opt/conda/lib/python3.11/site-packages/sklearn/manifold/_spectral_embedding.py:310: UserWarning: Array is not symmetric, and will be converted to symmetric by average with its transpose.\n",
      "  adjacency = check_symmetric(adjacency)\n",
      "/opt/conda/lib/python3.11/site-packages/sklearn/manifold/_spectral_embedding.py:329: UserWarning: Graph is not fully connected, spectral embedding may not work as expected.\n",
      "  warnings.warn(\n",
      "[I 2025-05-16 09:46:44,846] Trial 17 finished with value: 1.0 and parameters: {'n_clusters': 3, 'n_neighbors': 14, 'assign_labels': 'discretize', 'degree': 1}. Best is trial 4 with value: 1.0.\n",
      "/opt/conda/lib/python3.11/site-packages/sklearn/manifold/_spectral_embedding.py:310: UserWarning: Array is not symmetric, and will be converted to symmetric by average with its transpose.\n",
      "  adjacency = check_symmetric(adjacency)\n",
      "/opt/conda/lib/python3.11/site-packages/sklearn/manifold/_spectral_embedding.py:329: UserWarning: Graph is not fully connected, spectral embedding may not work as expected.\n",
      "  warnings.warn(\n",
      "[I 2025-05-16 09:46:45,365] Trial 18 finished with value: 0.4951390003402468 and parameters: {'n_clusters': 6, 'n_neighbors': 10, 'assign_labels': 'kmeans', 'degree': 1}. Best is trial 4 with value: 1.0.\n",
      "/opt/conda/lib/python3.11/site-packages/sklearn/manifold/_spectral_embedding.py:310: UserWarning: Array is not symmetric, and will be converted to symmetric by average with its transpose.\n",
      "  adjacency = check_symmetric(adjacency)\n",
      "/opt/conda/lib/python3.11/site-packages/sklearn/manifold/_spectral_embedding.py:329: UserWarning: Graph is not fully connected, spectral embedding may not work as expected.\n",
      "  warnings.warn(\n",
      "[I 2025-05-16 09:46:45,605] Trial 19 finished with value: 0.6617083312163711 and parameters: {'n_clusters': 4, 'n_neighbors': 12, 'assign_labels': 'discretize', 'degree': 1}. Best is trial 4 with value: 1.0.\n",
      "/opt/conda/lib/python3.11/site-packages/sklearn/manifold/_spectral_embedding.py:310: UserWarning: Array is not symmetric, and will be converted to symmetric by average with its transpose.\n",
      "  adjacency = check_symmetric(adjacency)\n",
      "/opt/conda/lib/python3.11/site-packages/sklearn/manifold/_spectral_embedding.py:329: UserWarning: Graph is not fully connected, spectral embedding may not work as expected.\n",
      "  warnings.warn(\n",
      "[I 2025-05-16 09:46:45,752] Trial 20 finished with value: 1.0 and parameters: {'n_clusters': 2, 'n_neighbors': 9, 'assign_labels': 'discretize', 'degree': 1}. Best is trial 4 with value: 1.0.\n",
      "/opt/conda/lib/python3.11/site-packages/sklearn/manifold/_spectral_embedding.py:310: UserWarning: Array is not symmetric, and will be converted to symmetric by average with its transpose.\n",
      "  adjacency = check_symmetric(adjacency)\n",
      "/opt/conda/lib/python3.11/site-packages/sklearn/manifold/_spectral_embedding.py:329: UserWarning: Graph is not fully connected, spectral embedding may not work as expected.\n",
      "  warnings.warn(\n",
      "[I 2025-05-16 09:46:46,042] Trial 21 finished with value: 1.0 and parameters: {'n_clusters': 2, 'n_neighbors': 3, 'assign_labels': 'kmeans', 'degree': 1}. Best is trial 4 with value: 1.0.\n",
      "/opt/conda/lib/python3.11/site-packages/sklearn/manifold/_spectral_embedding.py:310: UserWarning: Array is not symmetric, and will be converted to symmetric by average with its transpose.\n",
      "  adjacency = check_symmetric(adjacency)\n",
      "/opt/conda/lib/python3.11/site-packages/sklearn/manifold/_spectral_embedding.py:329: UserWarning: Graph is not fully connected, spectral embedding may not work as expected.\n",
      "  warnings.warn(\n",
      "[I 2025-05-16 09:46:46,423] Trial 22 finished with value: 1.0 and parameters: {'n_clusters': 3, 'n_neighbors': 5, 'assign_labels': 'kmeans', 'degree': 1}. Best is trial 4 with value: 1.0.\n",
      "/opt/conda/lib/python3.11/site-packages/sklearn/manifold/_spectral_embedding.py:310: UserWarning: Array is not symmetric, and will be converted to symmetric by average with its transpose.\n",
      "  adjacency = check_symmetric(adjacency)\n",
      "/opt/conda/lib/python3.11/site-packages/sklearn/manifold/_spectral_embedding.py:329: UserWarning: Graph is not fully connected, spectral embedding may not work as expected.\n",
      "  warnings.warn(\n",
      "[I 2025-05-16 09:46:46,829] Trial 23 finished with value: 1.0 and parameters: {'n_clusters': 2, 'n_neighbors': 4, 'assign_labels': 'kmeans', 'degree': 1}. Best is trial 4 with value: 1.0.\n",
      "/opt/conda/lib/python3.11/site-packages/sklearn/manifold/_spectral_embedding.py:310: UserWarning: Array is not symmetric, and will be converted to symmetric by average with its transpose.\n",
      "  adjacency = check_symmetric(adjacency)\n",
      "/opt/conda/lib/python3.11/site-packages/sklearn/manifold/_spectral_embedding.py:329: UserWarning: Graph is not fully connected, spectral embedding may not work as expected.\n",
      "  warnings.warn(\n",
      "[I 2025-05-16 09:46:47,410] Trial 24 finished with value: 1.0 and parameters: {'n_clusters': 3, 'n_neighbors': 7, 'assign_labels': 'kmeans', 'degree': 1}. Best is trial 4 with value: 1.0.\n",
      "/opt/conda/lib/python3.11/site-packages/sklearn/manifold/_spectral_embedding.py:310: UserWarning: Array is not symmetric, and will be converted to symmetric by average with its transpose.\n",
      "  adjacency = check_symmetric(adjacency)\n",
      "/opt/conda/lib/python3.11/site-packages/sklearn/manifold/_spectral_embedding.py:329: UserWarning: Graph is not fully connected, spectral embedding may not work as expected.\n",
      "  warnings.warn(\n",
      "[I 2025-05-16 09:46:48,055] Trial 25 finished with value: 1.0 and parameters: {'n_clusters': 2, 'n_neighbors': 11, 'assign_labels': 'kmeans', 'degree': 1}. Best is trial 4 with value: 1.0.\n",
      "/opt/conda/lib/python3.11/site-packages/sklearn/manifold/_spectral_embedding.py:310: UserWarning: Array is not symmetric, and will be converted to symmetric by average with its transpose.\n",
      "  adjacency = check_symmetric(adjacency)\n",
      "/opt/conda/lib/python3.11/site-packages/sklearn/manifold/_spectral_embedding.py:329: UserWarning: Graph is not fully connected, spectral embedding may not work as expected.\n",
      "  warnings.warn(\n",
      "[I 2025-05-16 09:46:48,477] Trial 26 finished with value: 1.0 and parameters: {'n_clusters': 3, 'n_neighbors': 14, 'assign_labels': 'kmeans', 'degree': 1}. Best is trial 4 with value: 1.0.\n",
      "/opt/conda/lib/python3.11/site-packages/sklearn/manifold/_spectral_embedding.py:310: UserWarning: Array is not symmetric, and will be converted to symmetric by average with its transpose.\n",
      "  adjacency = check_symmetric(adjacency)\n",
      "/opt/conda/lib/python3.11/site-packages/sklearn/manifold/_spectral_embedding.py:329: UserWarning: Graph is not fully connected, spectral embedding may not work as expected.\n",
      "  warnings.warn(\n",
      "[I 2025-05-16 09:46:48,844] Trial 27 finished with value: 1.0 and parameters: {'n_clusters': 2, 'n_neighbors': 8, 'assign_labels': 'discretize', 'degree': 1}. Best is trial 4 with value: 1.0.\n",
      "/opt/conda/lib/python3.11/site-packages/sklearn/manifold/_spectral_embedding.py:310: UserWarning: Array is not symmetric, and will be converted to symmetric by average with its transpose.\n",
      "  adjacency = check_symmetric(adjacency)\n",
      "/opt/conda/lib/python3.11/site-packages/sklearn/manifold/_spectral_embedding.py:329: UserWarning: Graph is not fully connected, spectral embedding may not work as expected.\n",
      "  warnings.warn(\n",
      "[I 2025-05-16 09:46:49,143] Trial 28 finished with value: 0.6614576528936101 and parameters: {'n_clusters': 4, 'n_neighbors': 5, 'assign_labels': 'kmeans', 'degree': 1}. Best is trial 4 with value: 1.0.\n",
      "/opt/conda/lib/python3.11/site-packages/sklearn/manifold/_spectral_embedding.py:310: UserWarning: Array is not symmetric, and will be converted to symmetric by average with its transpose.\n",
      "  adjacency = check_symmetric(adjacency)\n",
      "/opt/conda/lib/python3.11/site-packages/sklearn/manifold/_spectral_embedding.py:329: UserWarning: Graph is not fully connected, spectral embedding may not work as expected.\n",
      "  warnings.warn(\n",
      "[I 2025-05-16 09:46:49,661] Trial 29 finished with value: 1.0 and parameters: {'n_clusters': 2, 'n_neighbors': 12, 'assign_labels': 'kmeans', 'degree': 1}. Best is trial 4 with value: 1.0.\n",
      "/opt/conda/lib/python3.11/site-packages/sklearn/manifold/_spectral_embedding.py:310: UserWarning: Array is not symmetric, and will be converted to symmetric by average with its transpose.\n",
      "  adjacency = check_symmetric(adjacency)\n",
      "/opt/conda/lib/python3.11/site-packages/sklearn/manifold/_spectral_embedding.py:329: UserWarning: Graph is not fully connected, spectral embedding may not work as expected.\n",
      "  warnings.warn(\n",
      "[I 2025-05-16 09:46:50,054] Trial 30 finished with value: 1.0 and parameters: {'n_clusters': 3, 'n_neighbors': 10, 'assign_labels': 'discretize', 'degree': 1}. Best is trial 4 with value: 1.0.\n",
      "/opt/conda/lib/python3.11/site-packages/sklearn/manifold/_spectral_embedding.py:310: UserWarning: Array is not symmetric, and will be converted to symmetric by average with its transpose.\n",
      "  adjacency = check_symmetric(adjacency)\n",
      "/opt/conda/lib/python3.11/site-packages/sklearn/manifold/_spectral_embedding.py:329: UserWarning: Graph is not fully connected, spectral embedding may not work as expected.\n",
      "  warnings.warn(\n",
      "[I 2025-05-16 09:46:50,208] Trial 31 finished with value: 1.0 and parameters: {'n_clusters': 2, 'n_neighbors': 15, 'assign_labels': 'discretize', 'degree': 1}. Best is trial 4 with value: 1.0.\n",
      "/opt/conda/lib/python3.11/site-packages/sklearn/manifold/_spectral_embedding.py:310: UserWarning: Array is not symmetric, and will be converted to symmetric by average with its transpose.\n",
      "  adjacency = check_symmetric(adjacency)\n",
      "/opt/conda/lib/python3.11/site-packages/sklearn/manifold/_spectral_embedding.py:329: UserWarning: Graph is not fully connected, spectral embedding may not work as expected.\n",
      "  warnings.warn(\n",
      "[I 2025-05-16 09:46:50,384] Trial 32 finished with value: 1.0 and parameters: {'n_clusters': 2, 'n_neighbors': 14, 'assign_labels': 'discretize', 'degree': 1}. Best is trial 4 with value: 1.0.\n",
      "/opt/conda/lib/python3.11/site-packages/sklearn/manifold/_spectral_embedding.py:310: UserWarning: Array is not symmetric, and will be converted to symmetric by average with its transpose.\n",
      "  adjacency = check_symmetric(adjacency)\n",
      "/opt/conda/lib/python3.11/site-packages/sklearn/manifold/_spectral_embedding.py:329: UserWarning: Graph is not fully connected, spectral embedding may not work as expected.\n",
      "  warnings.warn(\n",
      "[I 2025-05-16 09:46:50,561] Trial 33 finished with value: 1.0 and parameters: {'n_clusters': 2, 'n_neighbors': 15, 'assign_labels': 'discretize', 'degree': 1}. Best is trial 4 with value: 1.0.\n",
      "/opt/conda/lib/python3.11/site-packages/sklearn/manifold/_spectral_embedding.py:310: UserWarning: Array is not symmetric, and will be converted to symmetric by average with its transpose.\n",
      "  adjacency = check_symmetric(adjacency)\n",
      "/opt/conda/lib/python3.11/site-packages/sklearn/manifold/_spectral_embedding.py:329: UserWarning: Graph is not fully connected, spectral embedding may not work as expected.\n",
      "  warnings.warn(\n",
      "[I 2025-05-16 09:46:50,797] Trial 34 finished with value: 0.49488153628891063 and parameters: {'n_clusters': 6, 'n_neighbors': 12, 'assign_labels': 'discretize', 'degree': 1}. Best is trial 4 with value: 1.0.\n",
      "/opt/conda/lib/python3.11/site-packages/sklearn/manifold/_spectral_embedding.py:310: UserWarning: Array is not symmetric, and will be converted to symmetric by average with its transpose.\n",
      "  adjacency = check_symmetric(adjacency)\n",
      "/opt/conda/lib/python3.11/site-packages/sklearn/manifold/_spectral_embedding.py:329: UserWarning: Graph is not fully connected, spectral embedding may not work as expected.\n",
      "  warnings.warn(\n",
      "[I 2025-05-16 09:46:50,984] Trial 35 finished with value: 1.0 and parameters: {'n_clusters': 3, 'n_neighbors': 14, 'assign_labels': 'discretize', 'degree': 1}. Best is trial 4 with value: 1.0.\n",
      "/opt/conda/lib/python3.11/site-packages/sklearn/manifold/_spectral_embedding.py:310: UserWarning: Array is not symmetric, and will be converted to symmetric by average with its transpose.\n",
      "  adjacency = check_symmetric(adjacency)\n",
      "/opt/conda/lib/python3.11/site-packages/sklearn/manifold/_spectral_embedding.py:329: UserWarning: Graph is not fully connected, spectral embedding may not work as expected.\n",
      "  warnings.warn(\n"
     ]
    }
   ],
   "source": [
    "manual_model = demo_pipeline(base_config)"
   ]
  },
  {
   "cell_type": "code",
   "execution_count": 29,
   "id": "e7431a21-44b8-43cd-920c-d9ee1654fd63",
   "metadata": {},
   "outputs": [
    {
     "data": {
      "text/plain": [
       "<models.network.SpectralGraphCluster at 0x7de458edd710>"
      ]
     },
     "execution_count": 29,
     "metadata": {},
     "output_type": "execute_result"
    }
   ],
   "source": [
    "manual_model"
   ]
  },
  {
   "cell_type": "code",
   "execution_count": null,
   "id": "6877a8bc-6742-4fb8-a6d9-a0f38c291fc7",
   "metadata": {},
   "outputs": [],
   "source": []
  },
  {
   "cell_type": "code",
   "execution_count": null,
   "id": "d1eb111c-e43d-4a51-91a4-a9033c44877a",
   "metadata": {},
   "outputs": [],
   "source": []
  },
  {
   "cell_type": "code",
   "execution_count": null,
   "id": "c1c802ab-a8c3-4dfe-a97e-9312ba5116b9",
   "metadata": {},
   "outputs": [],
   "source": []
  },
  {
   "cell_type": "markdown",
   "id": "91c3bd3c-69af-41cc-9333-e02105012a08",
   "metadata": {},
   "source": [
    "# Attribute-Graph"
   ]
  },
  {
   "cell_type": "code",
   "execution_count": 30,
   "id": "ffdacbe0-d6fa-43d2-8b87-bf3e11e5bef9",
   "metadata": {},
   "outputs": [],
   "source": [
    "import numpy as np\n",
    "from scipy.sparse import csr_matrix"
   ]
  },
  {
   "cell_type": "code",
   "execution_count": 31,
   "id": "99b9822d-c594-4e36-bec4-6121ac99ddb3",
   "metadata": {},
   "outputs": [],
   "source": [
    "data = np.load('cora.npz', allow_pickle=True)"
   ]
  },
  {
   "cell_type": "code",
   "execution_count": 32,
   "id": "e4659e52-e1af-477e-8531-e984b52c6cad",
   "metadata": {},
   "outputs": [],
   "source": [
    "adj = csr_matrix((data['adj_data'], data['adj_indices'], data['adj_indptr']), shape=data['adj_shape'])\n",
    "attr = csr_matrix((data['attr_data'], data['attr_indices'], data['attr_indptr']), shape=data['attr_shape'])"
   ]
  },
  {
   "cell_type": "code",
   "execution_count": 33,
   "id": "5ededafa-a59c-4584-b4a6-7263f8c3a4ab",
   "metadata": {},
   "outputs": [],
   "source": [
    "labels = data['labels']"
   ]
  },
  {
   "cell_type": "code",
   "execution_count": 34,
   "id": "34efe98b-1c99-4b73-8128-89b3d828287f",
   "metadata": {},
   "outputs": [],
   "source": [
    "pd.DataFrame(adj.todense(), columns=[f'x{i+1}' for i in range(2708)]).to_parquet('cora_graph.parquet')"
   ]
  },
  {
   "cell_type": "code",
   "execution_count": 35,
   "id": "c9172db8-745b-4ba0-a7ac-54c3158fc25a",
   "metadata": {},
   "outputs": [],
   "source": [
    "pd.DataFrame(attr.todense(), columns=[f'x{i+1}' for i in range(1433)]).to_parquet('cora.parquet')"
   ]
  },
  {
   "cell_type": "code",
   "execution_count": 36,
   "id": "f5312bf2-ba8e-4c6c-8680-df2eaddf9356",
   "metadata": {},
   "outputs": [],
   "source": [
    "base_config = {\n",
    "  \"data_source\": \"pandas\",\n",
    "  \"optimizer\":\"grid\",\n",
    "  \"preprocessing\": {},\n",
    "  \"data_path\": [\n",
    "    \"cora.parquet\",\n",
    "    \"cora_graph.parquet\",\n",
    "  ],\n",
    "  \"algorithm\": \"dmon\",\n",
    "  \"params\": {\n",
    "    \"num_clusters\": [7],\n",
    "    \"hidden_dim\": [256],\n",
    "    \"lambda_\": [{'modularity': 1.0, 'collapse': 1.0, 'distance':0.0, 'variance': 0.0, 'entropy':0.0}],\n",
    "    \"epochs\":[500],\n",
    "    \"lr\":[1e-4],\n",
    "    \"dropout\":[0.5]\n",
    "  },\n",
    "  \"metric\": \"attribute-graph\",\n",
    "  \"output_path\": \"best_dmon.joblib\"\n",
    "}\n",
    "\n",
    "import json\n",
    "with open('config.json', 'w') as f:\n",
    "    json.dump(base_config, f, indent=2)"
   ]
  },
  {
   "cell_type": "code",
   "execution_count": 37,
   "id": "9ec01269-a1db-4909-8c14-695ac6fe382e",
   "metadata": {},
   "outputs": [],
   "source": [
    "def demo_pipeline(config: dict, spark=None) -> object:\n",
    "    \"\"\"Execute full training pipeline.\"\"\"\n",
    "    print(f\"Available algorithms: {list(MODEL_REGISTRY.keys())}\")\n",
    "    print(f\"\\n{config.get('algorithm', 'kmeans')} parameters:\")\n",
    "    for param, desc in MODEL_REGISTRY[config.get('algorithm', 'kmeans')]['params_help'].items():\n",
    "        print(f\"  {param}: {desc}\")\n",
    "\n",
    "    model = train_pipeline(\n",
    "        features_src=config['data_path'][0],\n",
    "        similarity_src=config['data_path'][1],\n",
    "        algorithm=config.get('algorithm', 'kmeans'),\n",
    "        param_grid=config.get('params', {}),\n",
    "        normalizer=config.get('preprocessing').get('normalizer'),\n",
    "        sampler=config.get('preprocessing').get('sampler'),\n",
    "        metric=config['metric'],\n",
    "        optimizer=config.get('optimizer', 'grid'),\n",
    "        spark = spark\n",
    "    )\n",
    "    if 'output_path' in config:\n",
    "        model.save(config['output_path'])\n",
    "    return model"
   ]
  },
  {
   "cell_type": "code",
   "execution_count": 38,
   "id": "246d4a79-3e72-4522-b821-3cbaab540f06",
   "metadata": {
    "scrolled": true
   },
   "outputs": [
    {
     "name": "stdout",
     "output_type": "stream",
     "text": [
      "Available algorithms: ['kmeans', 'dbscan', 'dmon', 'louvain', 'spectral']\n",
      "\n",
      "dmon parameters:\n",
      "  num_clusters: Number of target clusters (positive integer)\n",
      "  hidden_dim: GCN hidden dimension size (positive integer)\n",
      "  lambda_: Loss coefficients dict {modularity: float, collapse: float, distance: float, variance: float, entropy: float}\n",
      "  epochs: Training iterations (positive integer)\n",
      "  lr: Learning rate (positive float)\n",
      "  dropout: Dropout probability (0.0-1.0)\n",
      "2025-05-16 09:46:52,017 - pattern - INFO - Loading data from cora.parquet\n",
      "2025-05-16 09:46:52,084 - pattern - INFO - Loading data from cora_graph.parquet\n"
     ]
    },
    {
     "name": "stderr",
     "output_type": "stream",
     "text": [
      "/opt/conda/lib/python3.11/site-packages/optuna/samplers/_grid.py:232: UserWarning: lambda_ contains a value with the type of <class 'dict'>, which is not supported by `GridSampler`. Please make sure a value is `str`, `int`, `float`, `bool` or `None` for persistent storage.\n",
      "  warnings.warn(message)\n",
      "[I 2025-05-16 09:46:52,186] A new study created in memory with name: no-name-537963cb-0646-443e-b44f-e5ced3070133\n",
      "/opt/conda/lib/python3.11/site-packages/optuna/distributions.py:515: UserWarning: Choices for a categorical distribution should be a tuple of None, bool, int, float and str for persistent storage but contains {'modularity': 1.0, 'collapse': 1.0, 'distance': 0.0, 'variance': 0.0, 'entropy': 0.0} which is of type dict.\n",
      "  warnings.warn(message)\n"
     ]
    },
    {
     "name": "stdout",
     "output_type": "stream",
     "text": [
      "Epoch 0: Loss=-0.0346\n",
      "Epoch 20: Loss=-0.2750\n",
      "Epoch 40: Loss=-0.3832\n",
      "Epoch 60: Loss=-0.3920\n",
      "Epoch 80: Loss=-0.3954\n",
      "Epoch 100: Loss=-0.3967\n",
      "Epoch 120: Loss=-0.3971\n",
      "Epoch 140: Loss=-0.3969\n",
      "Epoch 160: Loss=-0.3974\n",
      "Epoch 180: Loss=-0.3980\n",
      "Epoch 200: Loss=-0.3979\n",
      "Epoch 220: Loss=-0.3988\n",
      "Epoch 240: Loss=-0.3987\n",
      "Epoch 260: Loss=-0.3989\n",
      "Epoch 280: Loss=-0.3987\n",
      "Epoch 300: Loss=-0.3989\n",
      "Epoch 320: Loss=-0.3992\n",
      "Epoch 340: Loss=-0.3992\n",
      "Epoch 360: Loss=-0.3992\n",
      "Epoch 380: Loss=-0.3992\n",
      "Epoch 400: Loss=-0.3992\n",
      "Epoch 420: Loss=-0.3993\n",
      "Epoch 440: Loss=-0.3990\n",
      "Epoch 460: Loss=-0.3991\n",
      "Epoch 480: Loss=-0.3993\n"
     ]
    },
    {
     "name": "stderr",
     "output_type": "stream",
     "text": [
      "[I 2025-05-16 09:47:35,567] Trial 0 finished with value: 0.2940825912032994 and parameters: {'num_clusters': 7, 'hidden_dim': 256, 'lambda_': {'modularity': 1.0, 'collapse': 1.0, 'distance': 0.0, 'variance': 0.0, 'entropy': 0.0}, 'epochs': 500, 'lr': 0.0001, 'dropout': 0.5}. Best is trial 0 with value: 0.2940825912032994.\n"
     ]
    },
    {
     "name": "stdout",
     "output_type": "stream",
     "text": [
      "Epoch 0: Loss=-0.0359\n",
      "Epoch 20: Loss=-0.2691\n",
      "Epoch 40: Loss=-0.3852\n",
      "Epoch 60: Loss=-0.3948\n",
      "Epoch 80: Loss=-0.3972\n",
      "Epoch 100: Loss=-0.3989\n",
      "Epoch 120: Loss=-0.3988\n",
      "Epoch 140: Loss=-0.3994\n",
      "Epoch 160: Loss=-0.3996\n",
      "Epoch 180: Loss=-0.4002\n",
      "Epoch 200: Loss=-0.3996\n",
      "Epoch 220: Loss=-0.3994\n",
      "Epoch 240: Loss=-0.4003\n",
      "Epoch 260: Loss=-0.4003\n",
      "Epoch 280: Loss=-0.4004\n",
      "Epoch 300: Loss=-0.4002\n",
      "Epoch 320: Loss=-0.4004\n",
      "Epoch 340: Loss=-0.4004\n",
      "Epoch 360: Loss=-0.4003\n",
      "Epoch 380: Loss=-0.4001\n",
      "Epoch 400: Loss=-0.4003\n",
      "Epoch 420: Loss=-0.4009\n",
      "Epoch 440: Loss=-0.4012\n",
      "Epoch 460: Loss=-0.4014\n",
      "Epoch 480: Loss=-0.4013\n"
     ]
    }
   ],
   "source": [
    "manual_model = demo_pipeline(base_config)"
   ]
  },
  {
   "cell_type": "code",
   "execution_count": 39,
   "id": "68783c22-c005-4f86-8f3b-56646bffde16",
   "metadata": {},
   "outputs": [
    {
     "data": {
      "text/plain": [
       "{'num_clusters': 7,\n",
       " 'hidden_dim': 256,\n",
       " 'lambda_': {'modularity': 1.0,\n",
       "  'collapse': 1.0,\n",
       "  'distance': 0.0,\n",
       "  'variance': 0.0,\n",
       "  'entropy': 0.0},\n",
       " 'epochs': 500,\n",
       " 'lr': 0.0001,\n",
       " 'dropout': 0.5}"
      ]
     },
     "execution_count": 39,
     "metadata": {},
     "output_type": "execute_result"
    }
   ],
   "source": [
    "manual_model.params"
   ]
  },
  {
   "cell_type": "code",
   "execution_count": 40,
   "id": "62f44d83-6f99-446e-8f13-67ed70ab01ed",
   "metadata": {},
   "outputs": [],
   "source": [
    "from sklearn.metrics import normalized_mutual_info_score, adjusted_rand_score, adjusted_mutual_info_score"
   ]
  },
  {
   "cell_type": "code",
   "execution_count": 41,
   "id": "8ea63efb-fb49-4926-95fd-ea8f1cfdb79b",
   "metadata": {},
   "outputs": [
    {
     "name": "stdout",
     "output_type": "stream",
     "text": [
      "Params model: {'num_clusters': 7, 'hidden_dim': 256, 'lambda_': {'modularity': 1.0, 'collapse': 1.0, 'distance': 0.0, 'variance': 0.0, 'entropy': 0.0}, 'epochs': 500, 'lr': 0.0001, 'dropout': 0.5}| NMI: 0.3573 | ARI: 0.2838 | AMIS: 0.3550\n"
     ]
    }
   ],
   "source": [
    "nmi = normalized_mutual_info_score(labels, manual_model.labels)\n",
    "ari = adjusted_rand_score(labels, manual_model.labels)\n",
    "amis = adjusted_mutual_info_score(labels, manual_model.labels)\n",
    "print(f\"Params model: {manual_model.params}| NMI: {nmi:.4f} | ARI: {ari:.4f} | AMIS: {amis:.4f}\")"
   ]
  },
  {
   "cell_type": "code",
   "execution_count": null,
   "id": "9878b8ec-70a6-41c4-88e9-440ff234f7a5",
   "metadata": {},
   "outputs": [],
   "source": []
  },
  {
   "cell_type": "code",
   "execution_count": null,
   "id": "90a6318c-3cd4-473e-bc5a-7b05bc81abce",
   "metadata": {},
   "outputs": [],
   "source": []
  },
  {
   "cell_type": "code",
   "execution_count": null,
   "id": "afeaa5e1-3764-4cbb-858a-218e932d3095",
   "metadata": {},
   "outputs": [],
   "source": []
  },
  {
   "cell_type": "code",
   "execution_count": null,
   "id": "0516152c-feec-4da5-8095-54cc5e31cb61",
   "metadata": {},
   "outputs": [],
   "source": []
  },
  {
   "cell_type": "code",
   "execution_count": null,
   "id": "41e7c905-af07-445a-9eda-f134d5494739",
   "metadata": {},
   "outputs": [],
   "source": []
  },
  {
   "cell_type": "code",
   "execution_count": null,
   "id": "5b841e3d-3dd8-4a7a-a22e-fff1f392461e",
   "metadata": {},
   "outputs": [],
   "source": []
  }
 ],
 "metadata": {
  "kernelspec": {
   "display_name": "Python 3 (ipykernel)",
   "language": "python",
   "name": "python3"
  },
  "language_info": {
   "codemirror_mode": {
    "name": "ipython",
    "version": 3
   },
   "file_extension": ".py",
   "mimetype": "text/x-python",
   "name": "python",
   "nbconvert_exporter": "python",
   "pygments_lexer": "ipython3",
   "version": "3.11.10"
  },
  "widgets": {
   "application/vnd.jupyter.widget-state+json": {
    "state": {},
    "version_major": 2,
    "version_minor": 0
   }
  }
 },
 "nbformat": 4,
 "nbformat_minor": 5
}
