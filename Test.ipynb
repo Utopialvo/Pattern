{
 "cells": [
  {
   "cell_type": "code",
   "execution_count": 1,
   "id": "7e583916-ae30-4a3b-95bf-600bd6169c8d",
   "metadata": {},
   "outputs": [],
   "source": [
    "import pandas as pd\n",
    "from sklearn.datasets import make_blobs\n",
    "from core.api import train_pipeline\n",
    "from config.registries import MODEL_REGISTRY\n",
    "from data.loaders import PandasDataLoader"
   ]
  },
  {
   "cell_type": "code",
   "execution_count": 2,
   "id": "c9b9d2e3-a022-4988-848a-e0ce21ac2558",
   "metadata": {},
   "outputs": [],
   "source": [
    "# Generate sample data\n",
    "X, _, centers = make_blobs(\n",
    "    n_samples=3000,\n",
    "    n_features=3,\n",
    "    centers=5,\n",
    "    cluster_std=1.0,\n",
    "    random_state=0,\n",
    "    return_centers=True\n",
    ")\n",
    "pd.DataFrame(X, columns=[f'x{i+1}' for i in range(3)]).to_parquet('data.parquet')"
   ]
  },
  {
   "cell_type": "code",
   "execution_count": 3,
   "id": "23bc8905-d5d3-450f-91e5-11512a0aed4d",
   "metadata": {},
   "outputs": [
    {
     "data": {
      "text/html": [
       "<div>\n",
       "<style scoped>\n",
       "    .dataframe tbody tr th:only-of-type {\n",
       "        vertical-align: middle;\n",
       "    }\n",
       "\n",
       "    .dataframe tbody tr th {\n",
       "        vertical-align: top;\n",
       "    }\n",
       "\n",
       "    .dataframe thead th {\n",
       "        text-align: right;\n",
       "    }\n",
       "</style>\n",
       "<table border=\"1\" class=\"dataframe\">\n",
       "  <thead>\n",
       "    <tr style=\"text-align: right;\">\n",
       "      <th></th>\n",
       "      <th>x1</th>\n",
       "      <th>x2</th>\n",
       "      <th>x3</th>\n",
       "    </tr>\n",
       "  </thead>\n",
       "  <tbody>\n",
       "    <tr>\n",
       "      <th>0</th>\n",
       "      <td>-2.803323</td>\n",
       "      <td>6.091965</td>\n",
       "      <td>0.560062</td>\n",
       "    </tr>\n",
       "    <tr>\n",
       "      <th>1</th>\n",
       "      <td>1.005863</td>\n",
       "      <td>2.250111</td>\n",
       "      <td>2.111326</td>\n",
       "    </tr>\n",
       "    <tr>\n",
       "      <th>2</th>\n",
       "      <td>-1.664214</td>\n",
       "      <td>8.968215</td>\n",
       "      <td>9.462399</td>\n",
       "    </tr>\n",
       "    <tr>\n",
       "      <th>3</th>\n",
       "      <td>0.215323</td>\n",
       "      <td>4.218356</td>\n",
       "      <td>1.265304</td>\n",
       "    </tr>\n",
       "    <tr>\n",
       "      <th>4</th>\n",
       "      <td>-1.287203</td>\n",
       "      <td>8.312072</td>\n",
       "      <td>8.308078</td>\n",
       "    </tr>\n",
       "    <tr>\n",
       "      <th>...</th>\n",
       "      <td>...</td>\n",
       "      <td>...</td>\n",
       "      <td>...</td>\n",
       "    </tr>\n",
       "    <tr>\n",
       "      <th>2995</th>\n",
       "      <td>1.211350</td>\n",
       "      <td>-0.541304</td>\n",
       "      <td>2.489197</td>\n",
       "    </tr>\n",
       "    <tr>\n",
       "      <th>2996</th>\n",
       "      <td>-2.149935</td>\n",
       "      <td>7.231925</td>\n",
       "      <td>0.423440</td>\n",
       "    </tr>\n",
       "    <tr>\n",
       "      <th>2997</th>\n",
       "      <td>1.123496</td>\n",
       "      <td>-0.304882</td>\n",
       "      <td>2.893082</td>\n",
       "    </tr>\n",
       "    <tr>\n",
       "      <th>2998</th>\n",
       "      <td>0.102689</td>\n",
       "      <td>10.071523</td>\n",
       "      <td>-9.534722</td>\n",
       "    </tr>\n",
       "    <tr>\n",
       "      <th>2999</th>\n",
       "      <td>1.530365</td>\n",
       "      <td>4.957573</td>\n",
       "      <td>0.881309</td>\n",
       "    </tr>\n",
       "  </tbody>\n",
       "</table>\n",
       "<p>3000 rows × 3 columns</p>\n",
       "</div>"
      ],
      "text/plain": [
       "            x1         x2        x3\n",
       "0    -2.803323   6.091965  0.560062\n",
       "1     1.005863   2.250111  2.111326\n",
       "2    -1.664214   8.968215  9.462399\n",
       "3     0.215323   4.218356  1.265304\n",
       "4    -1.287203   8.312072  8.308078\n",
       "...        ...        ...       ...\n",
       "2995  1.211350  -0.541304  2.489197\n",
       "2996 -2.149935   7.231925  0.423440\n",
       "2997  1.123496  -0.304882  2.893082\n",
       "2998  0.102689  10.071523 -9.534722\n",
       "2999  1.530365   4.957573  0.881309\n",
       "\n",
       "[3000 rows x 3 columns]"
      ]
     },
     "execution_count": 3,
     "metadata": {},
     "output_type": "execute_result"
    }
   ],
   "source": [
    "pd.read_parquet('data.parquet')"
   ]
  },
  {
   "cell_type": "code",
   "execution_count": 4,
   "id": "73ae339f-7918-4172-939c-e451f10b8ffa",
   "metadata": {},
   "outputs": [],
   "source": [
    "# Example configuration\n",
    "base_config = {\n",
    "  \"data_source\": \"pandas\",\n",
    "  \"preprocessing\": {\n",
    "    \"normalizer\": {\n",
    "      \"methods\":{\"x1\": \"zscore\",\n",
    "                \"x2\": \"range\",\n",
    "                \"x3\": \"minmax\"},\n",
    "        \"columns\": [\"x1\", \"x2\", \"x3\"]\n",
    "    },\n",
    "    \"sampler\": {\n",
    "      \"data_src\": [\n",
    "    \"data.parquet\",\n",
    "    None\n",
    "  ]\n",
    "    }\n",
    "  },\n",
    "  \"data_path\": [\n",
    "    \"data.parquet\",\n",
    "    None\n",
    "  ],\n",
    "  \"algorithm\": \"kmeans\",\n",
    "  \"params\": {\n",
    "    \"n_clusters\": [\n",
    "      3,\n",
    "      5,\n",
    "      7,\n",
    "      10\n",
    "    ],\n",
    "    \"init\": [\n",
    "      \"k-means++\",\n",
    "      \"random\"\n",
    "    ],\n",
    "    \"max_iter\": [\n",
    "      100,\n",
    "      200\n",
    "    ]\n",
    "  },\n",
    "  \"metric\": \"silhouette\",\n",
    "  \"output_path\": \"best_kmeans.joblib\"\n",
    "}\n",
    "\n",
    "import json\n",
    "with open('config.json', 'w') as f:\n",
    "    json.dump(base_config, f, indent=2)"
   ]
  },
  {
   "cell_type": "code",
   "execution_count": 13,
   "id": "42f525fc-d4b3-4a20-b9f7-55aeed95793d",
   "metadata": {},
   "outputs": [],
   "source": [
    "def analyze_results(model: object) -> None:\n",
    "    \"\"\"Display model training results.\"\"\"\n",
    "    print(f\"Optimal parameters: {model.model.get_params()}\")\n",
    "    print(f\"Inertia: {model.model.inertia_}\")\n",
    "    print(\"Cluster centroids:\")\n",
    "    for i, c in enumerate(model.model_data['centroids']):\n",
    "        print(f\"Cluster {i}: {c}\")\n",
    "\n",
    "def demo_pipeline(config: dict, algorithm: str = 'kmeans', spark=None) -> object:\n",
    "    \"\"\"Execute full training pipeline.\"\"\"\n",
    "    print(f\"Available algorithms: {list(MODEL_REGISTRY.keys())}\")\n",
    "    print(f\"\\n{algorithm} parameters:\")\n",
    "    for param, desc in MODEL_REGISTRY[algorithm]['params_help'].items():\n",
    "        print(f\"  {param}: {desc}\")\n",
    "\n",
    "    model = train_pipeline(\n",
    "        features_src=config['data_path'][0],\n",
    "        similarity_src=config['data_path'][1],\n",
    "        algorithm=algorithm,\n",
    "        param_grid=config.get('params', {}),\n",
    "        normalizer=config.get('preprocessing').get('normalizer'),\n",
    "        sampler=config.get('preprocessing').get('sampler'),\n",
    "        metric=config['metric'],\n",
    "        optimizer=config.get('optimizer', 'grid'),\n",
    "        spark = spark\n",
    "    )\n",
    "    if 'output_path' in config:\n",
    "        model.save(config['output_path'])\n",
    "    return model"
   ]
  },
  {
   "cell_type": "code",
   "execution_count": 14,
   "id": "77664138-ba58-49d8-98b1-5cd72c48384e",
   "metadata": {},
   "outputs": [
    {
     "name": "stdout",
     "output_type": "stream",
     "text": [
      "Available algorithms: ['kmeans', 'dbscan']\n",
      "\n",
      "kmeans parameters:\n",
      "  n_clusters: Number of clusters (positive integer)\n",
      "  init: Initialization method [k-means++, random]\n",
      "  max_iter: Maximum iterations (positive integer)\n",
      "Optimal parameters: {'algorithm': 'lloyd', 'copy_x': True, 'init': 'random', 'max_iter': 200, 'n_clusters': 7, 'n_init': 'auto', 'random_state': None, 'tol': 0.0001, 'verbose': 0}\n",
      "Inertia: 35.91633146914405\n",
      "Cluster centroids:\n",
      "Cluster 0: [1.38592653 0.22576181 0.13133726]\n",
      "Cluster 1: [ 0.21693072 -0.47134928  0.64526643]\n",
      "Cluster 2: [-1.52012816  0.07338093  0.59617673]\n",
      "Cluster 3: [0.60663863 0.23614239 0.12777483]\n",
      "Cluster 4: [ 1.03586133 -0.25185631  0.63406237]\n",
      "Cluster 5: [0.28532377 0.08074441 0.73458234]\n",
      "Cluster 6: [-0.58196802  0.09715243  0.70486649]\n"
     ]
    }
   ],
   "source": [
    "# Execute manual pipeline\n",
    "manual_model = demo_pipeline(base_config)\n",
    "analyze_results(manual_model)"
   ]
  },
  {
   "cell_type": "code",
   "execution_count": 15,
   "id": "f4457a38-8687-4e94-8b03-212e87b598b1",
   "metadata": {},
   "outputs": [],
   "source": [
    "# Prediction demo\n",
    "def predict_clusters(model: object, features: dict) -> None:\n",
    "    \"\"\"Make and display cluster predictions.\"\"\"\n",
    "    new_data = pd.DataFrame(features)\n",
    "    predictions = model.predict(PandasDataLoader(new_data))\n",
    "    print(f\"Predicted clusters: {predictions.values}\")"
   ]
  },
  {
   "cell_type": "code",
   "execution_count": 16,
   "id": "3041dae2-47ed-4580-8517-c6c1c22f760b",
   "metadata": {},
   "outputs": [
    {
     "name": "stdout",
     "output_type": "stream",
     "text": [
      "Predicted clusters: [5 5 4]\n"
     ]
    }
   ],
   "source": [
    "predict_clusters(manual_model, {\n",
    "    'x1': [0.5, 1.5, 2.5],\n",
    "    'x2': [0.3, 1.2, 2.1],\n",
    "    'x3': [0.7, 3.5, 6.1],\n",
    "})"
   ]
  },
  {
   "cell_type": "code",
   "execution_count": null,
   "id": "87f6ee39-fe27-47c2-a2d5-af8a8c387fe5",
   "metadata": {},
   "outputs": [],
   "source": []
  },
  {
   "cell_type": "code",
   "execution_count": null,
   "id": "e8b6471c-6c15-4a01-ace3-c2890b862d37",
   "metadata": {},
   "outputs": [],
   "source": []
  },
  {
   "cell_type": "code",
   "execution_count": null,
   "id": "c47e4096-7299-4a57-83a7-35c68b8f1f80",
   "metadata": {},
   "outputs": [],
   "source": []
  },
  {
   "cell_type": "code",
   "execution_count": null,
   "id": "c99e3547-dfc9-40be-9abc-1fb062963abd",
   "metadata": {},
   "outputs": [],
   "source": []
  }
 ],
 "metadata": {
  "kernelspec": {
   "display_name": "Python 3 (ipykernel)",
   "language": "python",
   "name": "python3"
  },
  "language_info": {
   "codemirror_mode": {
    "name": "ipython",
    "version": 3
   },
   "file_extension": ".py",
   "mimetype": "text/x-python",
   "name": "python",
   "nbconvert_exporter": "python",
   "pygments_lexer": "ipython3",
   "version": "3.11.10"
  },
  "widgets": {
   "application/vnd.jupyter.widget-state+json": {
    "state": {},
    "version_major": 2,
    "version_minor": 0
   }
  }
 },
 "nbformat": 4,
 "nbformat_minor": 5
}
