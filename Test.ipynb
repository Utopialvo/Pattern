{
 "cells": [
  {
   "cell_type": "code",
   "execution_count": null,
   "id": "7e583916-ae30-4a3b-95bf-600bd6169c8d",
   "metadata": {},
   "outputs": [],
   "source": [
    "%time\n",
    "import pandas as pd\n",
    "from sklearn.datasets import make_blobs\n",
    "from core.api import optimizing_pipeline\n",
    "from config.registries import MODEL_REGISTRY\n",
    "from data.loaders import PandasDataLoader"
   ]
  },
  {
   "cell_type": "markdown",
   "id": "82cdf168-2d16-4fef-8e9b-c020f51c5ec6",
   "metadata": {},
   "source": [
    "# Attribute"
   ]
  },
  {
   "cell_type": "code",
   "execution_count": null,
   "id": "c9b9d2e3-a022-4988-848a-e0ce21ac2558",
   "metadata": {},
   "outputs": [],
   "source": [
    "X, _, centers = make_blobs(\n",
    "    n_samples=1500,\n",
    "    n_features=3,\n",
    "    centers=3,\n",
    "    cluster_std=1.3,\n",
    "    random_state=0,\n",
    "    return_centers=True\n",
    ")\n",
    "pd.DataFrame(X, columns=[f'x{i+1}' for i in range(3)]).to_parquet('data.parquet')"
   ]
  },
  {
   "cell_type": "code",
   "execution_count": null,
   "id": "23bc8905-d5d3-450f-91e5-11512a0aed4d",
   "metadata": {},
   "outputs": [],
   "source": [
    "pd.read_parquet('data.parquet')"
   ]
  },
  {
   "cell_type": "code",
   "execution_count": null,
   "id": "73ae339f-7918-4172-939c-e451f10b8ffa",
   "metadata": {},
   "outputs": [],
   "source": [
    "base_config = {\n",
    "  \"data_source\": \"pandas\",\n",
    "  \"optimizer\":\"tpe\",\n",
    "  \"plots_path\":\"results/datavis/kmeans\",\n",
    "  \"stat_path\":\"results/stat/kmeans\",\n",
    "  \"preprocessing\": {\n",
    "    \"normalizer\": {\n",
    "      \"methods\":{\"x1\": \"zscore\",\n",
    "                \"x2\": \"range\",\n",
    "                \"x3\": \"minmax\"},\n",
    "        \"columns\": [\"x1\", \"x2\", \"x3\"]\n",
    "    },\n",
    "    \"sampler\": {\n",
    "      \"features\": \"data.parquet\",\n",
    "      \"similarity\": None,\n",
    "    }\n",
    "  },\n",
    "  \"features\": \"data.parquet\",\n",
    "  \"similarity\": None,\n",
    "  \"algorithm\": \"kmeans\",\n",
    "  \"params\": {\n",
    "    \"n_clusters\": [\n",
    "      3,\n",
    "      5,\n",
    "      7,\n",
    "      10\n",
    "    ],\n",
    "    \"init\": [\n",
    "      \"k-means++\",\n",
    "      \"random\"\n",
    "    ],\n",
    "    \"max_iter\": [\n",
    "      100,\n",
    "      200\n",
    "    ]\n",
    "  },\n",
    "  \"metric\": \"attribute\",\n",
    "  \"output_path\": \"best_kmeans.joblib\"\n",
    "}\n",
    "\n",
    "import json\n",
    "with open('config.json', 'w') as f:\n",
    "    json.dump(base_config, f, indent=2)"
   ]
  },
  {
   "cell_type": "markdown",
   "id": "7c1281bc-8e7d-43e1-9a88-9b0393776fc3",
   "metadata": {},
   "source": [
    "## Case Kmeans (pipeline)"
   ]
  },
  {
   "cell_type": "code",
   "execution_count": null,
   "id": "42f525fc-d4b3-4a20-b9f7-55aeed95793d",
   "metadata": {},
   "outputs": [],
   "source": [
    "def analyze_results(model: object) -> None:\n",
    "    \"\"\"Display model training results.\"\"\"\n",
    "    print(f\"Optimal parameters: {model.model.get_params()}\")\n",
    "    print(f\"Inertia: {model.model.inertia_}\")\n",
    "    print(\"Cluster centroids:\")\n",
    "    for i, c in enumerate(model.model_data['centroids']):\n",
    "        print(f\"Cluster {i}: {c}\")\n",
    "\n",
    "def demo_pipeline(config: dict, spark=None) -> object:\n",
    "    \"\"\"Execute full training pipeline.\"\"\"\n",
    "    print(f\"Available algorithms: {list(MODEL_REGISTRY.keys())}\")\n",
    "    print(f\"\\n{config.get('algorithm', 'kmeans')} parameters:\")\n",
    "    for param, desc in MODEL_REGISTRY[config.get('algorithm', 'kmeans')]['params_help'].items():\n",
    "        print(f\"  {param}: {desc}\")\n",
    "\n",
    "    model = optimizing_pipeline(\n",
    "        features_src=config['features'],\n",
    "        similarity_src=config['similarity'],\n",
    "        algorithm=config.get('algorithm', 'kmeans'),\n",
    "        param_grid=config.get('params', {}),\n",
    "        normalizer=config.get('preprocessing').get('normalizer'),\n",
    "        sampler=config.get('preprocessing').get('sampler'),\n",
    "        metric=config['metric'],\n",
    "        optimizer=config.get('optimizer', 'grid'),\n",
    "        plots_path=config.get('plots_path'),\n",
    "        stat_path=config.get('stat_path'),\n",
    "        spark = spark\n",
    "    )\n",
    "    if 'output_path' in config:\n",
    "        model.save(config['output_path'])\n",
    "    return model"
   ]
  },
  {
   "cell_type": "code",
   "execution_count": null,
   "id": "77664138-ba58-49d8-98b1-5cd72c48384e",
   "metadata": {
    "scrolled": true
   },
   "outputs": [],
   "source": [
    "manual_model = demo_pipeline(base_config)\n",
    "analyze_results(manual_model)"
   ]
  },
  {
   "cell_type": "code",
   "execution_count": null,
   "id": "f4457a38-8687-4e94-8b03-212e87b598b1",
   "metadata": {},
   "outputs": [],
   "source": [
    "def predict_clusters(model: object, features: dict) -> None:\n",
    "    \"\"\"Make and display cluster predictions.\"\"\"\n",
    "    new_data = pd.DataFrame(features)\n",
    "    predictions = model.predict(PandasDataLoader(new_data))\n",
    "    print(f\"Predicted clusters: {predictions}\")"
   ]
  },
  {
   "cell_type": "code",
   "execution_count": null,
   "id": "3041dae2-47ed-4580-8517-c6c1c22f760b",
   "metadata": {},
   "outputs": [],
   "source": [
    "predict_clusters(manual_model, {\n",
    "    'x1': [0.5, 1.5, 2.5],\n",
    "    'x2': [0.3, 1.2, 2.1],\n",
    "    'x3': [0.7, 3.5, 6.1],\n",
    "})"
   ]
  },
  {
   "cell_type": "code",
   "execution_count": null,
   "id": "87f6ee39-fe27-47c2-a2d5-af8a8c387fe5",
   "metadata": {},
   "outputs": [],
   "source": [
    "pd.read_parquet('data.sample.parquet')"
   ]
  },
  {
   "cell_type": "code",
   "execution_count": null,
   "id": "a1a78ba8-48d2-4c83-9c1e-209c3d338f7f",
   "metadata": {},
   "outputs": [],
   "source": []
  },
  {
   "cell_type": "code",
   "execution_count": null,
   "id": "56979d03-746d-485c-b779-76e66f888407",
   "metadata": {},
   "outputs": [],
   "source": []
  },
  {
   "cell_type": "markdown",
   "id": "b5303dc7-cb59-4bf7-9e9f-099017791cca",
   "metadata": {},
   "source": [
    "## Case Kmeans (extended)"
   ]
  },
  {
   "cell_type": "code",
   "execution_count": null,
   "id": "8e40f667-c613-4412-8f7c-29b9403d2b9b",
   "metadata": {},
   "outputs": [],
   "source": [
    "import pandas as pd\n",
    "import matplotlib.pyplot as plt\n",
    "from models.attribute import SklearnKMeans\n",
    "from preprocessing.normalizers import PandasNormalizer\n",
    "from data.loaders import PandasDataLoader\n",
    "from metrics.quality import AttributeMetric\n",
    "import itertools"
   ]
  },
  {
   "cell_type": "code",
   "execution_count": null,
   "id": "77e4024a-84db-40da-9ed6-b1cb4f1976fe",
   "metadata": {},
   "outputs": [],
   "source": [
    "# 1. Loading data\n",
    "loader = PandasDataLoader(\n",
    "    features=\"data.parquet\",\n",
    "    normalizer=None,\n",
    "    sampler=None\n",
    ")\n",
    "features, _ = loader.full_data()"
   ]
  },
  {
   "cell_type": "code",
   "execution_count": null,
   "id": "b6c04d62-f148-4f03-bdd9-2945bf48bc34",
   "metadata": {},
   "outputs": [],
   "source": [
    "# 2. Preprocessing\n",
    "normalizer = PandasNormalizer(\n",
    "    methods={\n",
    "        \"x1\": \"zscore\",\n",
    "        \"x2\": \"range\", \n",
    "        \"x3\": \"minmax\"\n",
    "    }\n",
    ")\n",
    "normalizer.fit(features)\n",
    "normalized_features = normalizer.transform(features.copy())"
   ]
  },
  {
   "cell_type": "code",
   "execution_count": null,
   "id": "e6c1952f-a148-4135-b39c-ea33dda0cbb1",
   "metadata": {},
   "outputs": [],
   "source": [
    "# 3. Preparing parameters for search\n",
    "param_grid = {\n",
    "    'n_clusters': [3, 5, 7, 10],\n",
    "    'init': ['k-means++', 'random'],\n",
    "    'max_iter': [100, 200]\n",
    "}"
   ]
  },
  {
   "cell_type": "code",
   "execution_count": null,
   "id": "e6798ec4-ca4f-46ba-94ed-147dfaf2bd4e",
   "metadata": {},
   "outputs": [],
   "source": [
    "# 4. Manual Grid Search\n",
    "best_score = -1\n",
    "best_model = None\n",
    "results = []\n",
    "\n",
    "all_params = list(itertools.product(*param_grid.values()))\n",
    "\n",
    "for params_values in all_params:\n",
    "    params = dict(zip(param_grid.keys(), params_values))\n",
    "    \n",
    "    try:\n",
    "\n",
    "        model = SklearnKMeans(params)\n",
    "        \n",
    "        model.fit(PandasDataLoader(features=normalized_features))\n",
    "        \n",
    "        labels = model.predict(PandasDataLoader(features=normalized_features))\n",
    "        \n",
    "        metric = AttributeMetric()\n",
    "        score = metric.calculate(\n",
    "            data_loader=PandasDataLoader(features=normalized_features),\n",
    "            labels=labels,\n",
    "            model_data=model.model_data\n",
    "        )\n",
    "        \n",
    "        results.append({\n",
    "            'params': params,\n",
    "            'score': score\n",
    "        })\n",
    "        \n",
    "        if score > best_score:\n",
    "            best_score = score\n",
    "            best_model = model\n",
    "\n",
    "    except Exception as e:\n",
    "        print(f\"Skipped {params}: {str(e)}\")"
   ]
  },
  {
   "cell_type": "code",
   "execution_count": null,
   "id": "c41e7efd-0454-42b2-aa76-83ea6a2ba208",
   "metadata": {},
   "outputs": [],
   "source": [
    "# 5. Analysis results\n",
    "df_results = pd.DataFrame(results)\n",
    "print(\"Top 5 configurations:\")\n",
    "print(df_results.sort_values('score', ascending=False).head(5))"
   ]
  },
  {
   "cell_type": "code",
   "execution_count": null,
   "id": "303b34d6-86ea-4c2f-a786-1428b9a0b208",
   "metadata": {},
   "outputs": [],
   "source": [
    "# 6. Visualization\n",
    "plt.figure(figsize=(10, 6))\n",
    "for init_method in ['k-means++', 'random']:\n",
    "    subset = df_results[df_results['params'].apply(lambda x: x['init'] == init_method)]\n",
    "    plt.plot(\n",
    "        subset['params'].apply(lambda x: x['n_clusters']),\n",
    "        subset['score'],\n",
    "        marker='o',\n",
    "        label=init_method\n",
    "    )\n",
    "\n",
    "plt.xlabel('Number of Clusters')\n",
    "plt.ylabel('Silhouette Score')\n",
    "plt.title('KMeans Performance Comparison')\n",
    "plt.legend()\n",
    "plt.grid(True)\n",
    "plt.show()"
   ]
  },
  {
   "cell_type": "code",
   "execution_count": null,
   "id": "4432f043-570f-4278-9869-e25c24980ec3",
   "metadata": {},
   "outputs": [],
   "source": [
    "# 7. Keeping the best model\n",
    "if best_model:\n",
    "    best_model.save(\"best_kmeans_custom.joblib\")\n",
    "    print(f\"Best model saved with score: {best_score}\")"
   ]
  },
  {
   "cell_type": "code",
   "execution_count": null,
   "id": "189ff1c5-1c83-49ab-83c5-c24a33c1ad39",
   "metadata": {},
   "outputs": [],
   "source": []
  },
  {
   "cell_type": "markdown",
   "id": "21256b31-5074-4283-b13d-513e1e077483",
   "metadata": {},
   "source": [
    "# Graph"
   ]
  },
  {
   "cell_type": "code",
   "execution_count": null,
   "id": "0bda3f61-be74-4d1a-b490-e295c3be30df",
   "metadata": {},
   "outputs": [],
   "source": [
    "import numpy as np\n",
    "import pandas as pd\n",
    "from sklearn.metrics import pairwise_distances\n",
    "import matplotlib.pyplot as plt\n",
    "np.random.seed(42)\n",
    "\n",
    "X = np.concatenate([\n",
    "    np.random.normal(loc=(0.5, -0.5), scale=1.0, size=(500, 2)),\n",
    "    np.random.normal(loc=(3, 3), scale=1.0, size=(500, 2)),\n",
    "    np.random.normal(loc=(-3, 3), scale=1.0, size=(500, 2))\n",
    "])\n",
    "\n",
    "dist_matrix = pairwise_distances(X)\n",
    "adj_matrix = np.zeros_like(dist_matrix)\n",
    "k = 5\n",
    "for i in range(len(X)):\n",
    "    neighbors = np.argsort(dist_matrix[i])[1:k+1]\n",
    "    adj_matrix[i, neighbors] = 1\n",
    "\n",
    "\n",
    "plt.figure(figsize=(12, 5))\n",
    "plt.scatter(X[:, 0], X[:, 1])\n",
    "plt.title('Graph Clustering')\n",
    "plt.axis('equal')\n",
    "plt.tight_layout()\n",
    "plt.show()"
   ]
  },
  {
   "cell_type": "code",
   "execution_count": null,
   "id": "3f52bee4-7480-42de-bee3-265c76f00eab",
   "metadata": {
    "scrolled": true
   },
   "outputs": [],
   "source": [
    "pd.DataFrame(adj_matrix, columns=[f'x{i+1}' for i in range(1500)]).to_parquet('data_graph.parquet')"
   ]
  },
  {
   "cell_type": "code",
   "execution_count": null,
   "id": "d7353a90-40d5-4090-ac78-5384d893e1e7",
   "metadata": {},
   "outputs": [],
   "source": [
    "pd.read_parquet('data_graph.parquet').values.shape"
   ]
  },
  {
   "cell_type": "markdown",
   "id": "d106b817-f294-4faa-aee2-a20e595242e4",
   "metadata": {},
   "source": [
    "## louvain"
   ]
  },
  {
   "cell_type": "code",
   "execution_count": null,
   "id": "a2692966-3280-4deb-9432-90db2d2490b4",
   "metadata": {},
   "outputs": [],
   "source": [
    "base_config = {\n",
    "  \"data_source\": \"pandas\",\n",
    "  \"plots_path\":\"results/datavis/louvain\",\n",
    "  \"stat_path\":\"results/stat/louvain\",\n",
    "  \"optimizer\":\"tpe\",\n",
    "  \"preprocessing\": {\n",
    "    \"sampler\": {\n",
    "      \"features\": None,\n",
    "      \"similarity\": \"data_graph.parquet\"\n",
    "    }\n",
    "  },\n",
    "  \"features\": None,\n",
    "  \"similarity\": \"data_graph.parquet\",\n",
    "  \"algorithm\": \"louvain\",\n",
    "  \"params\": {\n",
    "    \"resolution\": [0.1, 0.3, 0.5, 0.7, 1.0, 1.5, 2.0],\n",
    "    \"threshold\": [1e-07, 1e-06, 1e-05, 1e-04],\n",
    "    \"max_level\": [ 5, 10, 15, 30, 45, 55]\n",
    "  },\n",
    "  \"metric\": \"graph\",\n",
    "  \"output_path\": \"best_louvain.joblib\"\n",
    "}\n",
    "\n",
    "import json\n",
    "with open('config.json', 'w') as f:\n",
    "    json.dump(base_config, f, indent=2)"
   ]
  },
  {
   "cell_type": "code",
   "execution_count": null,
   "id": "c61d75b9-e1ee-4413-aa77-df79945c770a",
   "metadata": {
    "scrolled": true
   },
   "outputs": [],
   "source": [
    "manual_model = demo_pipeline(base_config)"
   ]
  },
  {
   "cell_type": "code",
   "execution_count": null,
   "id": "cd54a26a-a619-4150-836a-9cd0cc6cef36",
   "metadata": {
    "scrolled": true
   },
   "outputs": [],
   "source": [
    "manual_model"
   ]
  },
  {
   "cell_type": "markdown",
   "id": "05221649-54b5-4421-8754-c4f3f8cb7424",
   "metadata": {},
   "source": [
    "## spectral"
   ]
  },
  {
   "cell_type": "code",
   "execution_count": null,
   "id": "a5d46904-4b3d-4334-9063-be13d35a784c",
   "metadata": {},
   "outputs": [],
   "source": [
    "base_config = {\n",
    "  \"data_source\": \"pandas\",\n",
    "  \"plots_path\":\"results/datavis/spectral\",\n",
    "  \"stat_path\":\"results/stat/spectral\",\n",
    "  \"optimizer\":\"tpe\",\n",
    "  \"preprocessing\": {\n",
    "    \"sampler\": {\n",
    "      \"features\": None,\n",
    "      \"similarity\": \"data_graph.parquet\"\n",
    "    }\n",
    "  },\n",
    "  \"features\": None,\n",
    "  \"similarity\": \"data_graph.parquet\",\n",
    "  \"algorithm\": \"spectral\",\n",
    "  \"params\": {\n",
    "    \"n_clusters\": [2, 3, 4, 5, 6, 7],\n",
    "    \"n_neighbors\": [3, 10 ,15],\n",
    "    \"assign_labels\": ['kmeans', 'discretize'],\n",
    "    \"degree\":[1]\n",
    "  },\n",
    "  \"metric\": \"graph\",\n",
    "  \"output_path\": \"best_spectral.joblib\"\n",
    "}\n",
    "\n",
    "import json\n",
    "with open('config.json', 'w') as f:\n",
    "    json.dump(base_config, f, indent=2)"
   ]
  },
  {
   "cell_type": "code",
   "execution_count": null,
   "id": "f1233859-e27d-46a0-9467-dcc85cd865eb",
   "metadata": {
    "scrolled": true
   },
   "outputs": [],
   "source": [
    "manual_model = demo_pipeline(base_config)"
   ]
  },
  {
   "cell_type": "code",
   "execution_count": null,
   "id": "e7431a21-44b8-43cd-920c-d9ee1654fd63",
   "metadata": {},
   "outputs": [],
   "source": [
    "manual_model"
   ]
  },
  {
   "cell_type": "code",
   "execution_count": null,
   "id": "6877a8bc-6742-4fb8-a6d9-a0f38c291fc7",
   "metadata": {},
   "outputs": [],
   "source": []
  },
  {
   "cell_type": "code",
   "execution_count": null,
   "id": "d1eb111c-e43d-4a51-91a4-a9033c44877a",
   "metadata": {},
   "outputs": [],
   "source": []
  },
  {
   "cell_type": "code",
   "execution_count": null,
   "id": "c1c802ab-a8c3-4dfe-a97e-9312ba5116b9",
   "metadata": {},
   "outputs": [],
   "source": []
  },
  {
   "cell_type": "markdown",
   "id": "91c3bd3c-69af-41cc-9333-e02105012a08",
   "metadata": {},
   "source": [
    "# Attribute-Graph"
   ]
  },
  {
   "cell_type": "code",
   "execution_count": null,
   "id": "ffdacbe0-d6fa-43d2-8b87-bf3e11e5bef9",
   "metadata": {},
   "outputs": [],
   "source": [
    "import numpy as np\n",
    "from scipy.sparse import csr_matrix"
   ]
  },
  {
   "cell_type": "markdown",
   "id": "160a9188-65d0-4798-9bee-33ffc3db3fdf",
   "metadata": {},
   "source": [
    "## Cora"
   ]
  },
  {
   "cell_type": "code",
   "execution_count": null,
   "id": "99b9822d-c594-4e36-bec4-6121ac99ddb3",
   "metadata": {},
   "outputs": [],
   "source": [
    "data = np.load('cora.npz', allow_pickle=True)"
   ]
  },
  {
   "cell_type": "code",
   "execution_count": null,
   "id": "e4659e52-e1af-477e-8531-e984b52c6cad",
   "metadata": {},
   "outputs": [],
   "source": [
    "adj = csr_matrix((data['adj_data'], data['adj_indices'], data['adj_indptr']), shape=data['adj_shape'])\n",
    "attr = csr_matrix((data['attr_data'], data['attr_indices'], data['attr_indptr']), shape=data['attr_shape'])"
   ]
  },
  {
   "cell_type": "code",
   "execution_count": null,
   "id": "5ededafa-a59c-4584-b4a6-7263f8c3a4ab",
   "metadata": {},
   "outputs": [],
   "source": [
    "labels = data['labels']"
   ]
  },
  {
   "cell_type": "code",
   "execution_count": null,
   "id": "34efe98b-1c99-4b73-8128-89b3d828287f",
   "metadata": {},
   "outputs": [],
   "source": [
    "pd.DataFrame(adj.todense(), columns=[f'x{i+1}' for i in range(2708)]).to_parquet('cora_graph.parquet')"
   ]
  },
  {
   "cell_type": "code",
   "execution_count": null,
   "id": "c9172db8-745b-4ba0-a7ac-54c3158fc25a",
   "metadata": {},
   "outputs": [],
   "source": [
    "pd.DataFrame(attr.todense(), columns=[f'x{i+1}' for i in range(1433)]).to_parquet('cora.parquet')"
   ]
  },
  {
   "cell_type": "code",
   "execution_count": null,
   "id": "f5312bf2-ba8e-4c6c-8680-df2eaddf9356",
   "metadata": {},
   "outputs": [],
   "source": [
    "base_config = {\n",
    "  \"data_source\": \"pandas\",\n",
    "  \"optimizer\":\"grid\",\n",
    "  \"preprocessing\": {},\n",
    "  \"features\": \"cora.parquet\",\n",
    "  \"similarity\": \"cora_graph.parquet\",\n",
    "  \"algorithm\": \"dmon\",\n",
    "  \"params\": {\n",
    "    \"num_clusters\": [7],\n",
    "    \"hidden_dim\": [256],\n",
    "    \"lambda_\": [{'modularity': 1.0, 'collapse': 1.0, 'distance':0.0, 'variance': 0.0, 'entropy':0.0}],\n",
    "    \"epochs\":[500],\n",
    "    \"lr\":[1e-4],\n",
    "    \"dropout\":[0.5]\n",
    "  },\n",
    "  \"metric\": \"attribute-graph\",\n",
    "  \"output_path\": \"best_dmon_cora.pt\"\n",
    "}\n",
    "\n",
    "import json\n",
    "with open('config.json', 'w') as f:\n",
    "    json.dump(base_config, f, indent=2)"
   ]
  },
  {
   "cell_type": "code",
   "execution_count": null,
   "id": "00bcae60-eef3-40c5-b387-970503092716",
   "metadata": {},
   "outputs": [],
   "source": [
    "def demo_pipeline(config: dict, spark=None) -> object:\n",
    "    \"\"\"Execute full training pipeline.\"\"\"\n",
    "    print(f\"Available algorithms: {list(MODEL_REGISTRY.keys())}\")\n",
    "    print(f\"\\n{config.get('algorithm', 'kmeans')} parameters:\")\n",
    "    for param, desc in MODEL_REGISTRY[config.get('algorithm', 'kmeans')]['params_help'].items():\n",
    "        print(f\"  {param}: {desc}\")\n",
    "\n",
    "    model = optimizing_pipeline(\n",
    "        features_src=config['features'],\n",
    "        similarity_src=config['similarity'],\n",
    "        algorithm=config.get('algorithm', 'kmeans'),\n",
    "        param_grid=config.get('params', {}),\n",
    "        normalizer=config.get('preprocessing').get('normalizer'),\n",
    "        sampler=config.get('preprocessing').get('sampler'),\n",
    "        metric=config['metric'],\n",
    "        optimizer=config.get('optimizer', 'grid'),\n",
    "        plots_path=config.get('plots_path'),\n",
    "        stat_path=config.get('stat_path'),\n",
    "        spark = spark\n",
    "    )\n",
    "    if 'output_path' in config:\n",
    "        model.save(config['output_path'])\n",
    "    return model"
   ]
  },
  {
   "cell_type": "code",
   "execution_count": null,
   "id": "246d4a79-3e72-4522-b821-3cbaab540f06",
   "metadata": {
    "scrolled": true
   },
   "outputs": [],
   "source": [
    "manual_model = demo_pipeline(base_config)"
   ]
  },
  {
   "cell_type": "code",
   "execution_count": null,
   "id": "68783c22-c005-4f86-8f3b-56646bffde16",
   "metadata": {},
   "outputs": [],
   "source": [
    "manual_model.params"
   ]
  },
  {
   "cell_type": "code",
   "execution_count": null,
   "id": "62f44d83-6f99-446e-8f13-67ed70ab01ed",
   "metadata": {},
   "outputs": [],
   "source": [
    "from sklearn.metrics import normalized_mutual_info_score, adjusted_rand_score, adjusted_mutual_info_score"
   ]
  },
  {
   "cell_type": "code",
   "execution_count": null,
   "id": "8ea63efb-fb49-4926-95fd-ea8f1cfdb79b",
   "metadata": {},
   "outputs": [],
   "source": [
    "nmi = normalized_mutual_info_score(labels, manual_model.labels_)\n",
    "ari = adjusted_rand_score(labels, manual_model.labels_)\n",
    "amis = adjusted_mutual_info_score(labels, manual_model.labels_)\n",
    "print(f\"Params model: {manual_model.params}| NMI: {nmi:.4f} | ARI: {ari:.4f} | AMIS: {amis:.4f}\")"
   ]
  },
  {
   "cell_type": "code",
   "execution_count": null,
   "id": "c369aa63-bb1e-4858-a544-bddfe3419e56",
   "metadata": {},
   "outputs": [],
   "source": []
  },
  {
   "cell_type": "markdown",
   "id": "a864cc64-20bb-40ee-bebe-9b62c3a6c80b",
   "metadata": {},
   "source": [
    "## Synthetic"
   ]
  },
  {
   "cell_type": "code",
   "execution_count": null,
   "id": "90a6318c-3cd4-473e-bc5a-7b05bc81abce",
   "metadata": {},
   "outputs": [],
   "source": [
    "base_config = {\n",
    "  \"data_source\": \"pandas\",\n",
    "  \"plots_path\":\"results/datavis/DMON\",\n",
    "  \"stat_path\":\"results/stat/DMON\",\n",
    "  \"optimizer\":\"grid\",\n",
    "  \"preprocessing\": {},\n",
    "  \"features\": \"data.parquet\",\n",
    "  \"similarity\": \"data_graph.parquet\",\n",
    "  \"algorithm\": \"dmon\",\n",
    "  \"params\": {\n",
    "    \"num_clusters\": [3,4,5],\n",
    "    \"hidden_dim\": [256],\n",
    "    \"lambda_\": [{'modularity': 1.0, 'collapse': 1.0, 'distance':0.0, 'variance': 0.0, 'entropy':0.0}],\n",
    "    \"epochs\":[500],\n",
    "    \"lr\":[1e-4],\n",
    "    \"dropout\":[0.5]\n",
    "  },\n",
    "  \"metric\": \"attribute-graph\",\n",
    "  \"output_path\": \"best_dmon.pt\"\n",
    "}\n",
    "\n",
    "import json\n",
    "with open('config.json', 'w') as f:\n",
    "    json.dump(base_config, f, indent=2)"
   ]
  },
  {
   "cell_type": "code",
   "execution_count": null,
   "id": "afeaa5e1-3764-4cbb-858a-218e932d3095",
   "metadata": {
    "scrolled": true
   },
   "outputs": [],
   "source": [
    "manual_model = demo_pipeline(base_config)"
   ]
  },
  {
   "cell_type": "code",
   "execution_count": null,
   "id": "0516152c-feec-4da5-8095-54cc5e31cb61",
   "metadata": {},
   "outputs": [],
   "source": []
  },
  {
   "cell_type": "code",
   "execution_count": null,
   "id": "41e7c905-af07-445a-9eda-f134d5494739",
   "metadata": {},
   "outputs": [],
   "source": []
  },
  {
   "cell_type": "code",
   "execution_count": null,
   "id": "5b841e3d-3dd8-4a7a-a22e-fff1f392461e",
   "metadata": {},
   "outputs": [],
   "source": []
  },
  {
   "cell_type": "code",
   "execution_count": null,
   "id": "ee238b78-a28b-483b-b903-324700ce23c4",
   "metadata": {},
   "outputs": [],
   "source": []
  }
 ],
 "metadata": {
  "kernelspec": {
   "display_name": "Python 3 (ipykernel)",
   "language": "python",
   "name": "python3"
  },
  "language_info": {
   "codemirror_mode": {
    "name": "ipython",
    "version": 3
   },
   "file_extension": ".py",
   "mimetype": "text/x-python",
   "name": "python",
   "nbconvert_exporter": "python",
   "pygments_lexer": "ipython3",
   "version": "3.11.10"
  },
  "widgets": {
   "application/vnd.jupyter.widget-state+json": {
    "state": {},
    "version_major": 2,
    "version_minor": 0
   }
  }
 },
 "nbformat": 4,
 "nbformat_minor": 5
}
