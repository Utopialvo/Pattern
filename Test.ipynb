{
 "cells": [
  {
   "cell_type": "code",
   "execution_count": 1,
   "id": "7e583916-ae30-4a3b-95bf-600bd6169c8d",
   "metadata": {},
   "outputs": [],
   "source": [
    "import pandas as pd\n",
    "from sklearn.datasets import make_blobs\n",
    "from core.api import train_pipeline\n",
    "from config.registries import MODEL_REGISTRY\n",
    "from data.loaders import PandasDataLoader"
   ]
  },
  {
   "cell_type": "code",
   "execution_count": 2,
   "id": "c9b9d2e3-a022-4988-848a-e0ce21ac2558",
   "metadata": {},
   "outputs": [],
   "source": [
    "# Generate sample data\n",
    "X, _, centers = make_blobs(\n",
    "    n_samples=3000,\n",
    "    n_features=3,\n",
    "    centers=5,\n",
    "    cluster_std=1.0,\n",
    "    random_state=0,\n",
    "    return_centers=True\n",
    ")\n",
    "pd.DataFrame(X, columns=[f'x{i+1}' for i in range(3)]).to_parquet('data.parquet')"
   ]
  },
  {
   "cell_type": "code",
   "execution_count": 3,
   "id": "23bc8905-d5d3-450f-91e5-11512a0aed4d",
   "metadata": {},
   "outputs": [
    {
     "data": {
      "text/html": [
       "<div>\n",
       "<style scoped>\n",
       "    .dataframe tbody tr th:only-of-type {\n",
       "        vertical-align: middle;\n",
       "    }\n",
       "\n",
       "    .dataframe tbody tr th {\n",
       "        vertical-align: top;\n",
       "    }\n",
       "\n",
       "    .dataframe thead th {\n",
       "        text-align: right;\n",
       "    }\n",
       "</style>\n",
       "<table border=\"1\" class=\"dataframe\">\n",
       "  <thead>\n",
       "    <tr style=\"text-align: right;\">\n",
       "      <th></th>\n",
       "      <th>x1</th>\n",
       "      <th>x2</th>\n",
       "      <th>x3</th>\n",
       "    </tr>\n",
       "  </thead>\n",
       "  <tbody>\n",
       "    <tr>\n",
       "      <th>0</th>\n",
       "      <td>-2.803323</td>\n",
       "      <td>6.091965</td>\n",
       "      <td>0.560062</td>\n",
       "    </tr>\n",
       "    <tr>\n",
       "      <th>1</th>\n",
       "      <td>1.005863</td>\n",
       "      <td>2.250111</td>\n",
       "      <td>2.111326</td>\n",
       "    </tr>\n",
       "    <tr>\n",
       "      <th>2</th>\n",
       "      <td>-1.664214</td>\n",
       "      <td>8.968215</td>\n",
       "      <td>9.462399</td>\n",
       "    </tr>\n",
       "    <tr>\n",
       "      <th>3</th>\n",
       "      <td>0.215323</td>\n",
       "      <td>4.218356</td>\n",
       "      <td>1.265304</td>\n",
       "    </tr>\n",
       "    <tr>\n",
       "      <th>4</th>\n",
       "      <td>-1.287203</td>\n",
       "      <td>8.312072</td>\n",
       "      <td>8.308078</td>\n",
       "    </tr>\n",
       "    <tr>\n",
       "      <th>...</th>\n",
       "      <td>...</td>\n",
       "      <td>...</td>\n",
       "      <td>...</td>\n",
       "    </tr>\n",
       "    <tr>\n",
       "      <th>2995</th>\n",
       "      <td>1.211350</td>\n",
       "      <td>-0.541304</td>\n",
       "      <td>2.489197</td>\n",
       "    </tr>\n",
       "    <tr>\n",
       "      <th>2996</th>\n",
       "      <td>-2.149935</td>\n",
       "      <td>7.231925</td>\n",
       "      <td>0.423440</td>\n",
       "    </tr>\n",
       "    <tr>\n",
       "      <th>2997</th>\n",
       "      <td>1.123496</td>\n",
       "      <td>-0.304882</td>\n",
       "      <td>2.893082</td>\n",
       "    </tr>\n",
       "    <tr>\n",
       "      <th>2998</th>\n",
       "      <td>0.102689</td>\n",
       "      <td>10.071523</td>\n",
       "      <td>-9.534722</td>\n",
       "    </tr>\n",
       "    <tr>\n",
       "      <th>2999</th>\n",
       "      <td>1.530365</td>\n",
       "      <td>4.957573</td>\n",
       "      <td>0.881309</td>\n",
       "    </tr>\n",
       "  </tbody>\n",
       "</table>\n",
       "<p>3000 rows × 3 columns</p>\n",
       "</div>"
      ],
      "text/plain": [
       "            x1         x2        x3\n",
       "0    -2.803323   6.091965  0.560062\n",
       "1     1.005863   2.250111  2.111326\n",
       "2    -1.664214   8.968215  9.462399\n",
       "3     0.215323   4.218356  1.265304\n",
       "4    -1.287203   8.312072  8.308078\n",
       "...        ...        ...       ...\n",
       "2995  1.211350  -0.541304  2.489197\n",
       "2996 -2.149935   7.231925  0.423440\n",
       "2997  1.123496  -0.304882  2.893082\n",
       "2998  0.102689  10.071523 -9.534722\n",
       "2999  1.530365   4.957573  0.881309\n",
       "\n",
       "[3000 rows x 3 columns]"
      ]
     },
     "execution_count": 3,
     "metadata": {},
     "output_type": "execute_result"
    }
   ],
   "source": [
    "pd.read_parquet('data.parquet')"
   ]
  },
  {
   "cell_type": "code",
   "execution_count": 4,
   "id": "73ae339f-7918-4172-939c-e451f10b8ffa",
   "metadata": {},
   "outputs": [],
   "source": [
    "# Example configuration\n",
    "base_config = {\n",
    "  \"data_source\": \"pandas\",\n",
    "  \"preprocessing\": {\n",
    "    \"normalizer\": {\n",
    "      \"methods\":{\"x1\": \"zscore\",\n",
    "                \"x2\": \"range\",\n",
    "                \"x3\": \"minmax\"},\n",
    "        \"columns\": [\"x1\", \"x2\", \"x3\"]\n",
    "    },\n",
    "    \"sampler\": {\n",
    "      \"data_src\": [\n",
    "    \"data.parquet\",\n",
    "    None\n",
    "  ]\n",
    "    }\n",
    "  },\n",
    "  \"data_path\": [\n",
    "    \"data.parquet\",\n",
    "    None\n",
    "  ],\n",
    "  \"algorithm\": \"kmeans\",\n",
    "  \"params\": {\n",
    "    \"n_clusters\": [\n",
    "      3,\n",
    "      5,\n",
    "      7,\n",
    "      10\n",
    "    ],\n",
    "    \"init\": [\n",
    "      \"k-means++\",\n",
    "      \"random\"\n",
    "    ],\n",
    "    \"max_iter\": [\n",
    "      100,\n",
    "      200\n",
    "    ]\n",
    "  },\n",
    "  \"metric\": \"silhouette\",\n",
    "  \"output_path\": \"best_kmeans.joblib\"\n",
    "}\n",
    "\n",
    "import json\n",
    "with open('config.json', 'w') as f:\n",
    "    json.dump(base_config, f, indent=2)"
   ]
  },
  {
   "cell_type": "markdown",
   "id": "7c1281bc-8e7d-43e1-9a88-9b0393776fc3",
   "metadata": {},
   "source": [
    "# Case 1"
   ]
  },
  {
   "cell_type": "code",
   "execution_count": 5,
   "id": "42f525fc-d4b3-4a20-b9f7-55aeed95793d",
   "metadata": {},
   "outputs": [],
   "source": [
    "def analyze_results(model: object) -> None:\n",
    "    \"\"\"Display model training results.\"\"\"\n",
    "    print(f\"Optimal parameters: {model.model.get_params()}\")\n",
    "    print(f\"Inertia: {model.model.inertia_}\")\n",
    "    print(\"Cluster centroids:\")\n",
    "    for i, c in enumerate(model.model_data['centroids']):\n",
    "        print(f\"Cluster {i}: {c}\")\n",
    "\n",
    "def demo_pipeline(config: dict, algorithm: str = 'kmeans', spark=None) -> object:\n",
    "    \"\"\"Execute full training pipeline.\"\"\"\n",
    "    print(f\"Available algorithms: {list(MODEL_REGISTRY.keys())}\")\n",
    "    print(f\"\\n{algorithm} parameters:\")\n",
    "    for param, desc in MODEL_REGISTRY[algorithm]['params_help'].items():\n",
    "        print(f\"  {param}: {desc}\")\n",
    "\n",
    "    model = train_pipeline(\n",
    "        features_src=config['data_path'][0],\n",
    "        similarity_src=config['data_path'][1],\n",
    "        algorithm=algorithm,\n",
    "        param_grid=config.get('params', {}),\n",
    "        normalizer=config.get('preprocessing').get('normalizer'),\n",
    "        sampler=config.get('preprocessing').get('sampler'),\n",
    "        metric=config['metric'],\n",
    "        optimizer=config.get('optimizer', 'grid'),\n",
    "        spark = spark\n",
    "    )\n",
    "    if 'output_path' in config:\n",
    "        model.save(config['output_path'])\n",
    "    return model"
   ]
  },
  {
   "cell_type": "code",
   "execution_count": 6,
   "id": "77664138-ba58-49d8-98b1-5cd72c48384e",
   "metadata": {},
   "outputs": [
    {
     "name": "stdout",
     "output_type": "stream",
     "text": [
      "Available algorithms: ['kmeans', 'dbscan']\n",
      "\n",
      "kmeans parameters:\n",
      "  n_clusters: Number of clusters (positive integer)\n",
      "  init: Initialization method [k-means++, random]\n",
      "  max_iter: Maximum iterations (positive integer)\n",
      "2025-05-15 15:22:12,208 - pattern - INFO - Loading data from data.parquet\n",
      "2025-05-15 15:22:12,470 - pattern - INFO - Loading data from data.parquet\n",
      "Optimal parameters: {'algorithm': 'lloyd', 'copy_x': True, 'init': 'k-means++', 'max_iter': 200, 'n_clusters': 3, 'n_init': 'auto', 'random_state': None, 'tol': 0.0001, 'verbose': 0}\n",
      "Inertia: 79.502236015088\n",
      "Cluster centroids:\n",
      "Cluster 0: [ 1.04526725 -0.01153692  0.38893041]\n",
      "Cluster 1: [-1.21324701  0.07865641  0.64854556]\n",
      "Cluster 2: [ 0.10958119 -0.06389016  0.63724483]\n"
     ]
    }
   ],
   "source": [
    "# Execute manual pipeline\n",
    "manual_model = demo_pipeline(base_config)\n",
    "analyze_results(manual_model)"
   ]
  },
  {
   "cell_type": "code",
   "execution_count": 7,
   "id": "f4457a38-8687-4e94-8b03-212e87b598b1",
   "metadata": {},
   "outputs": [],
   "source": [
    "# Prediction demo\n",
    "def predict_clusters(model: object, features: dict) -> None:\n",
    "    \"\"\"Make and display cluster predictions.\"\"\"\n",
    "    new_data = pd.DataFrame(features)\n",
    "    predictions = model.predict(PandasDataLoader(new_data))\n",
    "    print(f\"Predicted clusters: {predictions.values}\")"
   ]
  },
  {
   "cell_type": "code",
   "execution_count": 8,
   "id": "3041dae2-47ed-4580-8517-c6c1c22f760b",
   "metadata": {},
   "outputs": [
    {
     "name": "stdout",
     "output_type": "stream",
     "text": [
      "Predicted clusters: [2 0 0]\n"
     ]
    }
   ],
   "source": [
    "predict_clusters(manual_model, {\n",
    "    'x1': [0.5, 1.5, 2.5],\n",
    "    'x2': [0.3, 1.2, 2.1],\n",
    "    'x3': [0.7, 3.5, 6.1],\n",
    "})"
   ]
  },
  {
   "cell_type": "code",
   "execution_count": 9,
   "id": "87f6ee39-fe27-47c2-a2d5-af8a8c387fe5",
   "metadata": {},
   "outputs": [
    {
     "data": {
      "text/html": [
       "<div>\n",
       "<style scoped>\n",
       "    .dataframe tbody tr th:only-of-type {\n",
       "        vertical-align: middle;\n",
       "    }\n",
       "\n",
       "    .dataframe tbody tr th {\n",
       "        vertical-align: top;\n",
       "    }\n",
       "\n",
       "    .dataframe thead th {\n",
       "        text-align: right;\n",
       "    }\n",
       "</style>\n",
       "<table border=\"1\" class=\"dataframe\">\n",
       "  <thead>\n",
       "    <tr style=\"text-align: right;\">\n",
       "      <th></th>\n",
       "      <th>x1</th>\n",
       "      <th>x2</th>\n",
       "      <th>x3</th>\n",
       "    </tr>\n",
       "  </thead>\n",
       "  <tbody>\n",
       "    <tr>\n",
       "      <th>1801</th>\n",
       "      <td>0.288995</td>\n",
       "      <td>7.132011</td>\n",
       "      <td>9.805073</td>\n",
       "    </tr>\n",
       "    <tr>\n",
       "      <th>1190</th>\n",
       "      <td>1.812473</td>\n",
       "      <td>8.278505</td>\n",
       "      <td>-8.916242</td>\n",
       "    </tr>\n",
       "    <tr>\n",
       "      <th>1817</th>\n",
       "      <td>-1.910309</td>\n",
       "      <td>6.940629</td>\n",
       "      <td>10.092354</td>\n",
       "    </tr>\n",
       "    <tr>\n",
       "      <th>251</th>\n",
       "      <td>1.504932</td>\n",
       "      <td>5.547709</td>\n",
       "      <td>1.821432</td>\n",
       "    </tr>\n",
       "    <tr>\n",
       "      <th>2505</th>\n",
       "      <td>2.048908</td>\n",
       "      <td>7.907490</td>\n",
       "      <td>-9.122306</td>\n",
       "    </tr>\n",
       "    <tr>\n",
       "      <th>...</th>\n",
       "      <td>...</td>\n",
       "      <td>...</td>\n",
       "      <td>...</td>\n",
       "    </tr>\n",
       "    <tr>\n",
       "      <th>2497</th>\n",
       "      <td>0.766932</td>\n",
       "      <td>-1.057664</td>\n",
       "      <td>2.490394</td>\n",
       "    </tr>\n",
       "    <tr>\n",
       "      <th>787</th>\n",
       "      <td>-2.457972</td>\n",
       "      <td>5.802214</td>\n",
       "      <td>1.331991</td>\n",
       "    </tr>\n",
       "    <tr>\n",
       "      <th>2636</th>\n",
       "      <td>-0.342108</td>\n",
       "      <td>5.177075</td>\n",
       "      <td>-0.743316</td>\n",
       "    </tr>\n",
       "    <tr>\n",
       "      <th>2538</th>\n",
       "      <td>-3.091012</td>\n",
       "      <td>5.213179</td>\n",
       "      <td>1.152132</td>\n",
       "    </tr>\n",
       "    <tr>\n",
       "      <th>402</th>\n",
       "      <td>-3.625036</td>\n",
       "      <td>5.212105</td>\n",
       "      <td>2.487436</td>\n",
       "    </tr>\n",
       "  </tbody>\n",
       "</table>\n",
       "<p>300 rows × 3 columns</p>\n",
       "</div>"
      ],
      "text/plain": [
       "            x1        x2         x3\n",
       "1801  0.288995  7.132011   9.805073\n",
       "1190  1.812473  8.278505  -8.916242\n",
       "1817 -1.910309  6.940629  10.092354\n",
       "251   1.504932  5.547709   1.821432\n",
       "2505  2.048908  7.907490  -9.122306\n",
       "...        ...       ...        ...\n",
       "2497  0.766932 -1.057664   2.490394\n",
       "787  -2.457972  5.802214   1.331991\n",
       "2636 -0.342108  5.177075  -0.743316\n",
       "2538 -3.091012  5.213179   1.152132\n",
       "402  -3.625036  5.212105   2.487436\n",
       "\n",
       "[300 rows x 3 columns]"
      ]
     },
     "execution_count": 9,
     "metadata": {},
     "output_type": "execute_result"
    }
   ],
   "source": [
    "pd.read_parquet('data.sample.parquet')"
   ]
  },
  {
   "cell_type": "code",
   "execution_count": null,
   "id": "60d50c00-d96f-4c08-add7-483593595c64",
   "metadata": {},
   "outputs": [],
   "source": []
  },
  {
   "cell_type": "markdown",
   "id": "b5303dc7-cb59-4bf7-9e9f-099017791cca",
   "metadata": {},
   "source": [
    "# Case 2"
   ]
  },
  {
   "cell_type": "code",
   "execution_count": 10,
   "id": "8e40f667-c613-4412-8f7c-29b9403d2b9b",
   "metadata": {},
   "outputs": [],
   "source": [
    "import pandas as pd\n",
    "import matplotlib.pyplot as plt\n",
    "from models.sklearn_cluster import SklearnKMeans\n",
    "from preprocessing.normalizers import PandasNormalizer\n",
    "from data.loaders import PandasDataLoader\n",
    "from metrics.quality import SilhouetteScore\n",
    "from optimization.strategies import GridSearch\n",
    "import itertools"
   ]
  },
  {
   "cell_type": "code",
   "execution_count": 11,
   "id": "77e4024a-84db-40da-9ed6-b1cb4f1976fe",
   "metadata": {},
   "outputs": [
    {
     "name": "stdout",
     "output_type": "stream",
     "text": [
      "2025-05-15 15:22:12,832 - pattern - INFO - Loading data from data.parquet\n"
     ]
    }
   ],
   "source": [
    "# 1. Loading data\n",
    "loader = PandasDataLoader(\n",
    "    data_src=\"data.parquet\",\n",
    "    normalizer=None,\n",
    "    sampler=None\n",
    ")\n",
    "features, _ = loader.full_data()"
   ]
  },
  {
   "cell_type": "code",
   "execution_count": 12,
   "id": "b6c04d62-f148-4f03-bdd9-2945bf48bc34",
   "metadata": {},
   "outputs": [],
   "source": [
    "# 2. Preprocessing\n",
    "normalizer = PandasNormalizer(\n",
    "    methods={\n",
    "        \"x1\": \"zscore\",\n",
    "        \"x2\": \"range\", \n",
    "        \"x3\": \"minmax\"\n",
    "    }\n",
    ")\n",
    "normalizer.fit(features)\n",
    "normalized_features = normalizer.transform(features.copy())"
   ]
  },
  {
   "cell_type": "code",
   "execution_count": 13,
   "id": "e6c1952f-a148-4135-b39c-ea33dda0cbb1",
   "metadata": {},
   "outputs": [],
   "source": [
    "# 3. Preparing parameters for search\n",
    "param_grid = {\n",
    "    'n_clusters': [3, 5, 7, 10],\n",
    "    'init': ['k-means++', 'random'],\n",
    "    'max_iter': [100, 200]\n",
    "}"
   ]
  },
  {
   "cell_type": "code",
   "execution_count": 14,
   "id": "e6798ec4-ca4f-46ba-94ed-147dfaf2bd4e",
   "metadata": {},
   "outputs": [],
   "source": [
    "# 4. Manual Grid Search\n",
    "best_score = -1\n",
    "best_model = None\n",
    "results = []\n",
    "\n",
    "all_params = list(itertools.product(*param_grid.values()))\n",
    "\n",
    "for params_values in all_params:\n",
    "    params = dict(zip(param_grid.keys(), params_values))\n",
    "    \n",
    "    try:\n",
    "\n",
    "        model = SklearnKMeans(params)\n",
    "        \n",
    "        model.fit(PandasDataLoader(data_src=normalized_features))\n",
    "        \n",
    "        labels = model.predict(PandasDataLoader(data_src=normalized_features))\n",
    "        \n",
    "        metric = SilhouetteScore()\n",
    "        score = metric.calculate(\n",
    "            data_loader=PandasDataLoader(data_src=normalized_features),\n",
    "            labels=labels,\n",
    "            model_data=model.model_data\n",
    "        )\n",
    "        \n",
    "        results.append({\n",
    "            'params': params,\n",
    "            'score': score\n",
    "        })\n",
    "        \n",
    "        if score > best_score:\n",
    "            best_score = score\n",
    "            best_model = model\n",
    "\n",
    "    except Exception as e:\n",
    "        print(f\"Skipped {params}: {str(e)}\")"
   ]
  },
  {
   "cell_type": "code",
   "execution_count": 15,
   "id": "c41e7efd-0454-42b2-aa76-83ea6a2ba208",
   "metadata": {},
   "outputs": [
    {
     "name": "stdout",
     "output_type": "stream",
     "text": [
      "Top 5 configurations:\n",
      "                                              params     score\n",
      "2  {'n_clusters': 3, 'init': 'random', 'max_iter'...  0.407477\n",
      "0  {'n_clusters': 3, 'init': 'k-means++', 'max_it...  0.407422\n",
      "1  {'n_clusters': 3, 'init': 'k-means++', 'max_it...  0.407422\n",
      "3  {'n_clusters': 3, 'init': 'random', 'max_iter'...  0.407422\n",
      "4  {'n_clusters': 5, 'init': 'k-means++', 'max_it...  0.392425\n"
     ]
    }
   ],
   "source": [
    "# 5. Analysis results\n",
    "df_results = pd.DataFrame(results)\n",
    "print(\"Top 5 configurations:\")\n",
    "print(df_results.sort_values('score', ascending=False).head(5))"
   ]
  },
  {
   "cell_type": "code",
   "execution_count": 16,
   "id": "303b34d6-86ea-4c2f-a786-1428b9a0b208",
   "metadata": {},
   "outputs": [
    {
     "data": {
      "image/png": "[encoded data removed]",
      "text/plain": [
       "<Figure size 1000x600 with 1 Axes>"
      ]
     },
     "metadata": {},
     "output_type": "display_data"
    }
   ],
   "source": [
    "# 6. Visualization\n",
    "plt.figure(figsize=(10, 6))\n",
    "for init_method in ['k-means++', 'random']:\n",
    "    subset = df_results[df_results['params'].apply(lambda x: x['init'] == init_method)]\n",
    "    plt.plot(\n",
    "        subset['params'].apply(lambda x: x['n_clusters']),\n",
    "        subset['score'],\n",
    "        marker='o',\n",
    "        label=init_method\n",
    "    )\n",
    "\n",
    "plt.xlabel('Number of Clusters')\n",
    "plt.ylabel('Silhouette Score')\n",
    "plt.title('KMeans Performance Comparison')\n",
    "plt.legend()\n",
    "plt.grid(True)\n",
    "plt.show()"
   ]
  },
  {
   "cell_type": "code",
   "execution_count": 17,
   "id": "4432f043-570f-4278-9869-e25c24980ec3",
   "metadata": {},
   "outputs": [
    {
     "name": "stdout",
     "output_type": "stream",
     "text": [
      "Best model saved with score: 0.4074766262935989\n"
     ]
    }
   ],
   "source": [
    "# 7. Keeping the best model\n",
    "if best_model:\n",
    "    best_model.save(\"best_kmeans_custom.joblib\")\n",
    "    print(f\"Best model saved with score: {best_score}\")"
   ]
  },
  {
   "cell_type": "code",
   "execution_count": null,
   "id": "189ff1c5-1c83-49ab-83c5-c24a33c1ad39",
   "metadata": {},
   "outputs": [],
   "source": []
  },
  {
   "cell_type": "code",
   "execution_count": null,
   "id": "ae8e7d11-cd31-4a5b-8907-ac5d8e48f520",
   "metadata": {},
   "outputs": [],
   "source": []
  }
 ],
 "metadata": {
  "kernelspec": {
   "display_name": "Python 3 (ipykernel)",
   "language": "python",
   "name": "python3"
  },
  "language_info": {
   "codemirror_mode": {
    "name": "ipython",
    "version": 3
   },
   "file_extension": ".py",
   "mimetype": "text/x-python",
   "name": "python",
   "nbconvert_exporter": "python",
   "pygments_lexer": "ipython3",
   "version": "3.11.10"
  },
  "widgets": {
   "application/vnd.jupyter.widget-state+json": {
    "state": {},
    "version_major": 2,
    "version_minor": 0
   }
  }
 },
 "nbformat": 4,
 "nbformat_minor": 5
}
